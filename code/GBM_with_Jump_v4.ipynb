{
  "cells": [
    {
      "cell_type": "markdown",
      "metadata": {
        "id": "kkL3t_wmLb4K"
      },
      "source": [
        "# Welcome to Google Collab! \n",
        "\n",
        "### The purpose of this notebook is to discuss the theory of Geometric Brownian Motion with Jumps.\n",
        "$\\:$\n",
        "\n",
        "### First, let's quickly review jumps from Stocastic Calculus for Finance II by Schreve\n",
        "\n",
        "$\\:$\n",
        "\n",
        "### Chapter 11 \n",
        "\n",
        "\n",
        "$N(t)$ is a *Poisson process*. \n",
        "\n",
        "$$ N(t)=   \\left\\{\n",
        "\\begin{array}{ll}\n",
        "      0 & if \\: \\: 0 \\leq t<S_1 \\\\\n",
        "      1 & if \\: \\: S_1 \\leq t < S_2 \\\\\n",
        "      2 & if \\: \\: S_2 \\leq t < S_3 \\\\\n",
        "      n & if S_n \\leq t < S_{n+1} \n",
        "\\end{array} \n",
        "\\right.  $$\n",
        "\n",
        "$\\:$\n",
        "\n",
        "$J(t)$ is a *Compound Poisson Process*\n",
        "\n",
        "\n",
        "$$J(t) =\\sum_{i=1}^{N(s)} Y_i$$\n",
        "\n",
        "Assume \"$Y_i$ is a **Normal** random variable, which is independent from one another ($Y_1, Y_2 , ... , etc)$\"\n",
        "\n",
        "### Question 1: \n",
        "  - What is the distribution of the random variable $Y_i ?$  \n",
        "    - We are interested to know, because $Y_i$ is in equation (11.7.28). In other words, if we want to simulate $S(t)$, then we must first understand how to simulate $Y_i$\n",
        "\n",
        "\n",
        "$\\color{blue}{\\text{Answer: Assume $Y$ comes from log-normal distribution. Page 6 of Merton’s paper says “$Y_j$ are themselves log-normally distributed” }}$\n",
        "\n",
        "\n",
        "\n",
        "$\\:$\n",
        "\n",
        "$\\:$\n",
        "\n",
        "In the case of jumps:\n",
        "\n",
        "$$dS(t) = \\mu S(t)dt + \\sigma S(t)dW(t) + S(t-)d(J(t))$$\n",
        "\n",
        "has the solution:\n",
        "\n",
        "$$S(t) = S(0) e^{(\\mu t + \\sigma W_t - t \\frac{\\sigma^2}{2}  + J_t) }  \\qquad (3)$$\n",
        "\n",
        "$$S(t) = S(0) e^{(\\mu t + \\sigma W_t - t \\frac{\\sigma^2}{2})}  e^{J_t }  \\qquad $$\n",
        "\n",
        "\n",
        "$$S(t) = S(0) e^{( ( \\mu - \\frac{\\sigma^2}{2})t + \\sigma W_t )}  e^{J_t }  \\qquad $$\n",
        "\n",
        "Where: \n",
        "\n",
        "\n",
        "\n",
        "\n",
        "Textbook by Rama CONT & Peter TANKOV (page 326)\n",
        "\n",
        "$$\\:$$\n",
        "\n",
        "$$ S_t  = S_0 \\: exp [ \\mu t + \\sigma W_t + J(t) ] \\qquad (10.2)$$\n",
        "\n",
        "$$\\:$$\n",
        "\n",
        "$$ J(t) = \\sum_{i = 1}^{N_t}Y_i $$\n",
        "\n",
        "$$\\:$$\n",
        "\n",
        "  - $\\lambda$ = Positive Constant. \"The Poisson process, $N(t)$ has *intensity* $\\lambda$ \"\n",
        "\n",
        "\n",
        "$\\:$\n",
        "\n",
        "\n",
        "\n",
        "\n",
        "### Question 2: \n",
        "  - Is equation (11.7.28) the correct equation to simulate geometric brownian motion with jumps? \n",
        "\n",
        "  \n",
        "$\\color{blue}{\\text{The equation above is \"Mertons Jump-diffusion model\", which could be the simplest model available. For our purpose, perhaps this is good enough! }}$\n",
        "\n",
        "$\\:$\n",
        "\n",
        "### Question 3: \n",
        "  - Which papers are most famous regarding GBM with jump ?\n",
        "    - We would like to familiarize ourselves with academic literature surrounding this topic. For example, it would be helpful to know how this model has evolved over time, and how it’s referenced in other papers.   \n",
        "\n",
        "$\\color{blue}{\\text{We found two papers: }}$\n",
        "\n",
        "   1. $\\color{blue}{\\text{Option Pricing when Underlying Stock Returns are Discountinuous by Robert C. Merton }}$\n",
        "\n",
        "\n",
        "  2. $\\color{blue}{\\text{A Jump-Diffusion Model for Option Pricing by Steven G. Kou}}$\n",
        "\n",
        " \n",
        "$\\:$\n",
        "\n",
        "### Question 4: \n",
        "  - How can we intelligently select appropriate values of $\\alpha$ , $\\beta$ , $\\lambda$ ? \n",
        "    - The goal is to use GBM to simulate the future possibilities for the market. (Dow Jones / S&P 500)\n",
        "\n",
        "$\\color{blue}{\\text{Choose $\\alpha = .02$, $\\sigma = .15$, and run the model with  $\\lambda$ ranging from 0 to 5. As lambda increases the probability of jumps will also increase.}}$\n",
        "\n",
        "$\\color{blue}{\\text{Perhaps our analysis could show the profitability of chooser options with respect to lambda.}}$\n",
        "\n",
        "\n",
        "$\\:$ \n",
        "\n",
        "### Thank you for taking the time to offer guidance!\n",
        "\n",
        "### We appreciate all the insights, and we look forward to working together. \n",
        "\n",
        "$\\:$\n",
        "\n",
        "--- \n",
        "\n",
        "$\\:$\n",
        "\n",
        "Inputs: \n",
        "\n",
        "$\\lambda = [0,1,2,3,4,5]$\n",
        "\n",
        "$\\alpha = .02$     (Executive decision based upon realistic assumption)\n",
        "\n",
        "$\\sigma^2 = .15$\n",
        "\n",
        "$\\:$\n",
        "\n",
        "#### Step 1: Simulate $N(t)$ as *Poisson process*\n",
        "\n",
        "#### Step 2: Simulate a Compound Poisson process. $J(t) = \\sum_{i = 1}^{N_t}Y_i, \\: \\: \\:$ $Y_i$ $\\backsim$ $N(0,1)$  \n",
        "$\\qquad$ ( great video https://www.youtube.com/watch?v=2iIBBQakO1I)\n",
        "\n",
        "\n",
        "#### Step 3: Take $J(t)$ and multiply by S(t) "
      ]
    },
    {
      "cell_type": "code",
      "execution_count": null,
      "metadata": {
        "id": "zXIPsoxWw67Y"
      },
      "outputs": [],
      "source": [
        "!pip install yfinance"
      ]
    },
    {
      "cell_type": "code",
      "execution_count": 1,
      "metadata": {
        "id": "nWxooW39LcfU"
      },
      "outputs": [],
      "source": [
        "\n",
        "import os \n",
        "import numpy as np \n",
        "import pandas as pd\n",
        "import matplotlib.pyplot as plt  \n",
        "import seaborn as sns\n",
        "import random\n",
        "import yfinance as yf\n",
        "from scipy.stats import norm\n",
        "\n",
        "\n",
        "Lambda = 15.0\n",
        "N_lines = 3         ## Number of lines\n",
        "\n",
        "Time = .25 \n",
        "Delta_t = 1/252\n",
        "\n",
        "\n",
        "Nsteps = int(Time/Delta_t)\n",
        "\n"
      ]
    },
    {
      "cell_type": "code",
      "execution_count": null,
      "metadata": {
        "id": "gwjMEfOklOoq"
      },
      "outputs": [],
      "source": [
        "\n",
        "\n",
        "#Poisson = np.random.poisson( Lambda*Delta_t , [Nsteps])\n",
        "#Poisson = Poisson.cumsum()\n",
        "#Poisson # This is N(t)   \n",
        "\n"
      ]
    },
    {
      "cell_type": "code",
      "execution_count": 2,
      "metadata": {
        "colab": {
          "base_uri": "https://localhost:8080/"
        },
        "id": "JaHhT3MB3I-a",
        "outputId": "13d55f3b-9238-4dad-be7f-895868b60631"
      },
      "outputs": [
        {
          "name": "stdout",
          "output_type": "stream",
          "text": [
            "[array([ 0,  0,  0,  0,  0,  0,  0,  0,  0,  0,  0,  0,  0,  0, -1,  1,  0,\n",
            "        0,  0,  0,  0,  0,  0,  0,  0,  0,  0,  0,  0,  0,  0,  0,  0, -1,\n",
            "        1,  0,  0,  0,  0,  0,  0,  0,  0, -1,  1,  0,  0,  0,  0,  0,  0,\n",
            "        0,  0,  0,  0,  0,  0,  0,  0,  0,  0,  0]), array([ 0,  0,  0,  0, -1,  1,  0,  0,  0,  0,  0,  0,  0,  0,  0,  0,  0,\n",
            "        0,  0,  0,  0,  0,  0,  0,  0, -1,  1,  0,  0,  0,  0,  0,  0,  0,\n",
            "        0,  0,  0,  0,  0,  0,  0,  0,  0,  0,  0, -1,  1,  0,  0,  0,  0,\n",
            "        0,  0,  0,  0,  0,  0,  0,  0,  0,  0,  0]), array([ 0,  0,  0,  0,  0,  0,  0,  0,  0,  0,  0,  0,  0,  0,  0,  0,  0,\n",
            "        0,  0,  0,  0,  0,  0,  0,  0,  0,  0,  0,  0,  0,  0,  0,  0,  0,\n",
            "        0,  0,  0,  0,  0,  0,  0,  0,  0,  0, -1,  1,  0,  0,  0,  0,  0,\n",
            "        0,  0,  0,  0,  0,  0,  0,  0,  0,  0,  0])]\n"
          ]
        }
      ],
      "source": [
        "\n",
        "changes = [] \n",
        "\n",
        "for i in range(0, N_lines):\n",
        "  Poisson = np.random.poisson( Lambda*Delta_t , [Nsteps])\n",
        "  changes.append(Poisson[:len(Poisson)-1,  ] - Poisson[1:,  ] )\n",
        "                 \n",
        "print(changes)\n",
        "#changes = changes.reshape(n_row , N_lines)\n",
        "\n"
      ]
    },
    {
      "cell_type": "code",
      "execution_count": 9,
      "metadata": {
        "colab": {
          "base_uri": "https://localhost:8080/"
        },
        "id": "uLrY6pWT30Tm",
        "outputId": "9bb6958d-ebd5-472b-fce3-9e074ec93dd0"
      },
      "outputs": [
        {
          "name": "stdout",
          "output_type": "stream",
          "text": [
            "3\n",
            "3\n",
            "1\n",
            "(63, 3)\n"
          ]
        }
      ],
      "source": [
        "JT = [] \n",
        "\n",
        "for i in range(0, N_lines):\n",
        "  index = np.where(changes[i] == -1)\n",
        "  index = np.array((index[0]+1))  # This is the location where jumps occur\n",
        "  \n",
        "  Y_i = np.random.normal(loc=0.0, scale=.05, size = (len(index)))   # Should this be an F distribution? \n",
        "  print(len(Y_i)) \n",
        "  Jt = np.zeros(Nsteps)  \n",
        "  Jt[index,] = Y_i\n",
        "  Jt = Jt.cumsum()\n",
        "\n",
        "  JT.append(Jt)\n",
        "  \n",
        "JT = np.array(JT).T\n",
        "\n",
        "print(JT.shape)  \n",
        "\n"
      ]
    },
    {
      "cell_type": "code",
      "execution_count": 10,
      "metadata": {
        "colab": {
          "base_uri": "https://localhost:8080/",
          "height": 261
        },
        "id": "ozlHqUDTpgUs",
        "outputId": "3344ef6f-143d-4704-9cb7-2a1c5b8ab480"
      },
      "outputs": [
        {
          "data": {
            "image/png": "[encoded data removed]",
            "text/plain": [
              "<Figure size 252x252 with 1 Axes>"
            ]
          },
          "metadata": {},
          "output_type": "display_data"
        }
      ],
      "source": [
        "# This is the compensated Poission Process! (Phew*)  \n",
        "with plt.style.context('seaborn-whitegrid'):\n",
        "    fig, ax = plt.subplots(figsize=(3.5,3.5))\n",
        "    ax.yaxis.labelpad = 15\n",
        "    plt.plot(JT)\n",
        "\n",
        "    plt.ylabel(\"J(t)\", rotation = 'horizontal')\n",
        "    plt.xlabel(\"Trading Days\")\n",
        "    plt.title(\"Simulation (L = \" + str(int(Lambda)) + \")\\n (Compound Poisson Process)\")\n",
        "    \n",
        "    plt.tight_layout()        \n",
        "    plt.show()"
      ]
    },
    {
      "cell_type": "code",
      "execution_count": 2,
      "metadata": {
        "id": "B7T8F1V-83M5"
      },
      "outputs": [],
      "source": [
        "def GBM_FAST(mu, dt, time, So, n_lines, vol):\n",
        "\n",
        "    n = int(252 * time)\n",
        "\n",
        "    sigma = np.array([vol]*n_lines)\n",
        "\n",
        "    S = np.exp( (mu - sigma ** 2 / 2) * dt + sigma * np.random.normal(0, np.sqrt(dt), size=(len(sigma), n)).T )\n",
        "    S = np.vstack([np.ones(len(sigma)), S])\n",
        "    S = So * S.cumprod(axis=0)\n",
        "    S = S[:n]\n",
        "    return(S) "
      ]
    },
    {
      "cell_type": "code",
      "execution_count": 128,
      "metadata": {
        "colab": {
          "base_uri": "https://localhost:8080/"
        },
        "id": "KTtkMJSg2VYn",
        "outputId": "1cfc4e12-6b0a-412c-bf70-4749c404755e"
      },
      "outputs": [
        {
          "name": "stdout",
          "output_type": "stream",
          "text": [
            "[[  0.   0.]\n",
            " [  0.   0.]\n",
            " [100.   0.]\n",
            " [  0.   0.]\n",
            " [  0.   0.]]\n"
          ]
        }
      ],
      "source": [
        "n_lines = 2\n",
        "rows = 5\n",
        "\n",
        "A = np.array([0.0]*(rows*n_lines))\n",
        "A = A.reshape(rows, n_lines)\n",
        "A[2,0] = 100\n",
        "\n",
        "\n",
        "print(A)\n",
        "\n"
      ]
    },
    {
      "cell_type": "code",
      "execution_count": 117,
      "metadata": {
        "colab": {
          "base_uri": "https://localhost:8080/",
          "height": 278
        },
        "id": "LDhyovip8-aE",
        "outputId": "9ca10d99-c31f-4b08-c93e-28173a5ee73b"
      },
      "outputs": [
        {
          "name": "stdout",
          "output_type": "stream",
          "text": [
            "(63, 3)\n"
          ]
        },
        {
          "data": {
            "image/png": "[encoded data removed]",
            "text/plain": [
              "<Figure size 252x252 with 1 Axes>"
            ]
          },
          "metadata": {},
          "output_type": "display_data"
        }
      ],
      "source": [
        "mu = .02\n",
        "So = 50\n",
        "vol = .10\n",
        "\n",
        "S = GBM_FAST(mu, Delta_t, Time, So, N_lines, vol)\n",
        "print(S.shape)\n",
        "\n",
        "\n",
        "with plt.style.context('seaborn-whitegrid'):\n",
        "    fig, ax = plt.subplots(figsize=(3.5,3.5))\n",
        "    ax.yaxis.labelpad = 25\n",
        "    plt.plot(S)\n",
        "    \n",
        "    plt.ylabel(\"Stock      \\n Price $(\\$)$    \\n\", rotation = 'horizontal')\n",
        "    plt.xlabel(\"Trading Days\")\n",
        "    plt.title(\"Stock Price Simulation (r = \" + str(int(mu*100)) + \"$\\%$)\\n (Geometric Brownian Motion)\")\n",
        "    \n",
        "    plt.tight_layout()        \n",
        "    plt.show()"
      ]
    },
    {
      "cell_type": "code",
      "execution_count": 3,
      "metadata": {
        "colab": {
          "base_uri": "https://localhost:8080/"
        },
        "id": "n8Au1y-n9wPQ",
        "outputId": "ee9213bd-f203-4d59-93b9-9e5498a78296"
      },
      "outputs": [
        {
          "ename": "NameError",
          "evalue": "name 'JT' is not defined",
          "output_type": "error",
          "traceback": [
            "\u001b[1;31m---------------------------------------------------------------------------\u001b[0m",
            "\u001b[1;31mNameError\u001b[0m                                 Traceback (most recent call last)",
            "\u001b[1;32m~\\AppData\\Local\\Temp/ipykernel_22344/4173151496.py\u001b[0m in \u001b[0;36m<module>\u001b[1;34m\u001b[0m\n\u001b[1;32m----> 1\u001b[1;33m \u001b[0meJ\u001b[0m \u001b[1;33m=\u001b[0m \u001b[0mnp\u001b[0m\u001b[1;33m.\u001b[0m\u001b[0mexp\u001b[0m\u001b[1;33m(\u001b[0m\u001b[0mJT\u001b[0m\u001b[1;33m)\u001b[0m\u001b[1;33m;\u001b[0m\u001b[1;33m\u001b[0m\u001b[1;33m\u001b[0m\u001b[0m\n\u001b[0m\u001b[0;32m      2\u001b[0m \u001b[0meJ\u001b[0m \u001b[1;33m=\u001b[0m \u001b[0meJ\u001b[0m\u001b[1;33m.\u001b[0m\u001b[0mreshape\u001b[0m\u001b[1;33m(\u001b[0m\u001b[0mlen\u001b[0m\u001b[1;33m(\u001b[0m\u001b[0meJ\u001b[0m\u001b[1;33m)\u001b[0m\u001b[1;33m,\u001b[0m \u001b[0mN_lines\u001b[0m \u001b[1;33m)\u001b[0m\u001b[1;33m\u001b[0m\u001b[1;33m\u001b[0m\u001b[0m\n\u001b[0;32m      3\u001b[0m \u001b[1;33m\u001b[0m\u001b[0m\n\u001b[0;32m      4\u001b[0m \u001b[0mprint\u001b[0m\u001b[1;33m(\u001b[0m \u001b[0meJ\u001b[0m\u001b[1;33m.\u001b[0m\u001b[0mshape\u001b[0m  \u001b[1;33m)\u001b[0m\u001b[1;33m\u001b[0m\u001b[1;33m\u001b[0m\u001b[0m\n",
            "\u001b[1;31mNameError\u001b[0m: name 'JT' is not defined"
          ]
        }
      ],
      "source": [
        "eJ = np.exp(JT);\n",
        "eJ = eJ.reshape(len(eJ), N_lines )\n",
        "\n",
        "print( eJ.shape  ) "
      ]
    },
    {
      "cell_type": "code",
      "execution_count": 29,
      "metadata": {
        "id": "qTm5J1SDVlNO"
      },
      "outputs": [],
      "source": [
        "\n",
        "def MERTONS_JUMP(So, mu, sigma, Lambda, Time, Delta_t, N_lines):\n",
        "  changes = [] \n",
        "  Nsteps = int(Time/Delta_t)\n",
        "  # JUMP COMPENENT\n",
        "  for i in range(0, N_lines):\n",
        "    Poisson = np.random.poisson( Lambda*Delta_t , [Nsteps])\n",
        "    changes.append(Poisson[:len(Poisson)-1,  ] - Poisson[1:,  ] )\n",
        "\n",
        "  JT = [] \n",
        "\n",
        "  for i in range(0, N_lines):\n",
        "    index = np.where(changes[i] == -1)\n",
        "    index = np.array((index[0]+1))  # This is the location where jumps occur\n",
        "    \n",
        "    Y_i = np.random.normal(loc=0.0, scale=.05, size = (len(index)))   # Should this be an F distribution? \n",
        "    Jt = np.zeros(Nsteps)  \n",
        "    Jt[index,] = Y_i\n",
        "    Jt = Jt.cumsum()\n",
        "\n",
        "    JT.append(Jt)\n",
        "    \n",
        "  JT = np.array(JT).T\n",
        "\n",
        "  # standard GBM \n",
        "  n = int(252 * Time)   #  weekly \n",
        "  sigma = np.array([sigma]*N_lines)\n",
        "  \n",
        "  S = np.exp( (mu - sigma ** 2 / 2) * Delta_t + sigma * np.random.normal(0, np.sqrt(Delta_t), size=(len(sigma), n)).T )\n",
        "  S = np.vstack([np.ones(len(sigma)), S])\n",
        "  S = So * S.cumprod(axis=0)\n",
        "  S = S[:n]\n",
        "  \n",
        "  final_data = S*np.exp(JT)\n",
        "\n",
        "  return(final_data)\n"
      ]
    },
    {
      "cell_type": "code",
      "execution_count": 28,
      "metadata": {
        "id": "gCpmAh1GVl1h"
      },
      "outputs": [],
      "source": [
        "\n",
        "So = 100\n",
        "mu = .02\n",
        "sigma = .30\n",
        "\n",
        "Lambda = 15.0\n",
        "N_lines = 3         ##  Number of lines\n",
        "\n",
        "Time = .25 \n",
        "Delta_t = 1/252\n",
        "\n"
      ]
    },
    {
      "cell_type": "code",
      "execution_count": 36,
      "metadata": {
        "colab": {
          "base_uri": "https://localhost:8080/",
          "height": 278
        },
        "id": "_h7fvblUYAUx",
        "outputId": "fac5823d-150e-4a9e-b717-263acea7ede5"
      },
      "outputs": [
        {
          "name": "stdout",
          "output_type": "stream",
          "text": [
            "(2, 1)\n",
            "102.12054688510135\n"
          ]
        },
        {
          "data": {
            "image/png": "[encoded data removed]",
            "text/plain": [
              "<Figure size 252x252 with 1 Axes>"
            ]
          },
          "metadata": {
            "needs_background": "light"
          },
          "output_type": "display_data"
        }
      ],
      "source": [
        "Delta_t = 1/52\n",
        "Time = 2/52\n",
        "\n",
        "Sj = MERTONS_JUMP(So, mu, sigma, Lambda, Time, Delta_t, 1)  \n",
        "print(float(Sj[1]) )\n",
        "\n",
        "fig, ax = plt.subplots(figsize=(3.5,3.5))\n",
        "plt.plot(Sj)\n",
        "\n",
        "plt.title(\"Stock Price Simulation \\n (Merton's Jump Diffusion Model)\", fontsize = 14)\n",
        "plt.ylabel(\"Stock Price \", fontsize = 14)\n",
        "plt.xlabel(\"Trading Days\", fontsize = 14)\n",
        "\n",
        "plt.tight_layout()        \n",
        "plt.show()\n"
      ]
    },
    {
      "cell_type": "code",
      "execution_count": 3,
      "metadata": {},
      "outputs": [],
      "source": [
        "\n",
        "def d_dict(df0):\n",
        "    n_row, n_col = df0.shape\n",
        "    r_total = \"{:,}\".format(n_row)\n",
        "    print(\"ROW TOTAL = \" + str(r_total) + \" COLUMNS = \" + str(n_col))\n",
        "\n",
        "    summary = pd.DataFrame(df0.dtypes)\n",
        "\n",
        "    percent_missing = list(df0.isnull().sum() * 100 / len(df0))\n",
        "    summary.insert(1, '%_Blank', percent_missing)\n",
        "    summary = summary.reset_index()\n",
        "    summary.columns = ['Variable_Name', 'Variable_Type', '%_Blank']\n",
        "\n",
        "    sum_stats = df0.describe().T\n",
        "    sum_stats = sum_stats.reset_index()\n",
        "\n",
        "    final_summary = pd.merge(summary, sum_stats, how = 'left', left_on = 'Variable_Name', right_on = 'index')\n",
        "    final_summary = final_summary.reset_index()\n",
        "    final_summary = final_summary.iloc[:, 1:] # drop the firt column\n",
        "    del final_summary['index']\n",
        "    return(final_summary)\n",
        "    "
      ]
    },
    {
      "cell_type": "code",
      "execution_count": 42,
      "metadata": {
        "colab": {
          "base_uri": "https://localhost:8080/",
          "height": 255
        },
        "id": "7lZlOvGORTK8",
        "outputId": "6214889e-01b7-461b-a775-3f1db1a977a3"
      },
      "outputs": [
        {
          "name": "stdout",
          "output_type": "stream",
          "text": [
            "TIME TO MATURITY  = 3.5277777777777777\n",
            "Earliest Time = 2020-04-20 00:00:00,  Max Date = 2022-09-26 00:00:00\n"
          ]
        },
        {
          "data": {
            "text/html": [
              "<div>\n",
              "<style scoped>\n",
              "    .dataframe tbody tr th:only-of-type {\n",
              "        vertical-align: middle;\n",
              "    }\n",
              "\n",
              "    .dataframe tbody tr th {\n",
              "        vertical-align: top;\n",
              "    }\n",
              "\n",
              "    .dataframe thead th {\n",
              "        text-align: right;\n",
              "    }\n",
              "</style>\n",
              "<table border=\"1\" class=\"dataframe\">\n",
              "  <thead>\n",
              "    <tr style=\"text-align: right;\">\n",
              "      <th></th>\n",
              "      <th>Jumps</th>\n",
              "      <th>Return</th>\n",
              "      <th>Vol</th>\n",
              "      <th>close_price</th>\n",
              "    </tr>\n",
              "    <tr>\n",
              "      <th>Start_Date</th>\n",
              "      <th></th>\n",
              "      <th></th>\n",
              "      <th></th>\n",
              "      <th></th>\n",
              "    </tr>\n",
              "  </thead>\n",
              "  <tbody>\n",
              "    <tr>\n",
              "      <th>2020-04-20</th>\n",
              "      <td>0.000000</td>\n",
              "      <td>1.012572</td>\n",
              "      <td>0.000467</td>\n",
              "      <td>67.520035</td>\n",
              "    </tr>\n",
              "    <tr>\n",
              "      <th>2020-04-27</th>\n",
              "      <td>0.000000</td>\n",
              "      <td>1.002212</td>\n",
              "      <td>0.004527</td>\n",
              "      <td>72.128098</td>\n",
              "    </tr>\n",
              "    <tr>\n",
              "      <th>2020-05-04</th>\n",
              "      <td>0.000000</td>\n",
              "      <td>1.006729</td>\n",
              "      <td>0.003557</td>\n",
              "      <td>74.568359</td>\n",
              "    </tr>\n",
              "    <tr>\n",
              "      <th>2020-05-11</th>\n",
              "      <td>1.483508</td>\n",
              "      <td>1.003967</td>\n",
              "      <td>0.002271</td>\n",
              "      <td>75.992264</td>\n",
              "    </tr>\n",
              "    <tr>\n",
              "      <th>2020-05-18</th>\n",
              "      <td>1.147195</td>\n",
              "      <td>1.004160</td>\n",
              "      <td>0.004847</td>\n",
              "      <td>77.997444</td>\n",
              "    </tr>\n",
              "  </tbody>\n",
              "</table>\n",
              "</div>"
            ],
            "text/plain": [
              "               Jumps    Return       Vol  close_price\n",
              "Start_Date                                           \n",
              "2020-04-20  0.000000  1.012572  0.000467    67.520035\n",
              "2020-04-27  0.000000  1.002212  0.004527    72.128098\n",
              "2020-05-04  0.000000  1.006729  0.003557    74.568359\n",
              "2020-05-11  1.483508  1.003967  0.002271    75.992264\n",
              "2020-05-18  1.147195  1.004160  0.004847    77.997444"
            ]
          },
          "execution_count": 42,
          "metadata": {},
          "output_type": "execute_result"
        }
      ],
      "source": [
        "url = 'https://github.com/Riley25/FE-800/blob/main/model_prediction_res.xlsx?raw=true'\n",
        "df = pd.read_excel(url)   \n",
        "\n",
        "df[['Start_Date', 'End_Date']] = df['Week'].str.split('/', 1, expand = True)\n",
        "\n",
        "df = df[['Start_Date', 'Jumps', 'Return', 'Vol', 'close_price']]\n",
        "df['Start_Date'] = pd.to_datetime(df['Start_Date'])\n",
        "#df['End_Date'] = pd.to_datetime(df['End_Date'])\n",
        "\n",
        "min_date = np.min(df['Start_Date'])\n",
        "max_date = np.max(df['Start_Date'])\n",
        "\n",
        "TTM = (max_date - min_date)\n",
        "TTM = int(TTM.days)/252 ; print('TIME TO MATURITY  = ' + str(TTM))\n",
        "\n",
        "SO = df['close_price']\n",
        "\n",
        "print('Earliest Time = ' + str(min_date) +',  Max Date = ' + str(max_date) ) \n",
        "\n",
        "df = df.set_index('Start_Date')\n",
        "n_row, n_col = df.shape\n",
        "\n",
        "df.head()"
      ]
    },
    {
      "cell_type": "code",
      "execution_count": 7,
      "metadata": {},
      "outputs": [
        {
          "data": {
            "text/plain": [
              "142.244033813476"
            ]
          },
          "execution_count": 7,
          "metadata": {},
          "output_type": "execute_result"
        }
      ],
      "source": [
        "df['close_price'].iloc[n_row-1]"
      ]
    },
    {
      "cell_type": "code",
      "execution_count": 5,
      "metadata": {
        "colab": {
          "base_uri": "https://localhost:8080/"
        },
        "id": "SD5X5_mh16HZ",
        "outputId": "db337e91-dabb-4c5d-bce5-4ac4d04ffacc"
      },
      "outputs": [],
      "source": [
        "start_price = df['close_price'].iloc[0]   "
      ]
    },
    {
      "cell_type": "code",
      "execution_count": 43,
      "metadata": {},
      "outputs": [],
      "source": [
        "y = 'Jumps'\n",
        "y2 = 'Return'\n",
        "y3 = 'Vol'\t"
      ]
    },
    {
      "cell_type": "code",
      "execution_count": 234,
      "metadata": {
        "colab": {
          "base_uri": "https://localhost:8080/",
          "height": 297
        },
        "id": "k0CwZWRRayjH",
        "outputId": "49454aaa-ff73-4b5a-8ca7-27670c9b10a3"
      },
      "outputs": [
        {
          "data": {
            "image/png": "[encoded data removed]",
            "text/plain": [
              "<Figure size 504x288 with 3 Axes>"
            ]
          },
          "metadata": {},
          "output_type": "display_data"
        }
      ],
      "source": [
        "\n",
        "with plt.style.context('seaborn-whitegrid'):\n",
        "  fig, (ax1, ax2, ax3) = plt.subplots(3, 1, figsize = (7, 4), sharex=True)\n",
        "\n",
        "  fig.suptitle('', fontsize = 14)\n",
        "\n",
        "  df[y].plot(  ax = ax1 , color = '#0a57d1' ) # blue\n",
        "  df[[y2]].plot( ax = ax2 , color = '#c4100a' ) # red\n",
        "  df[[y3]].plot( ax = ax3 , color = '#10ad1f' ) # green \n",
        " \n",
        "  ax3.set_xlabel('Time', fontsize = 14)\n",
        "  \n",
        "  for label in (ax1.get_xticklabels() + ax1.get_yticklabels()): label.set_fontsize(12)  \n",
        "  for label in (ax2.get_xticklabels() + ax2.get_yticklabels()): label.set_fontsize(12)  \n",
        "  for label in (ax3.get_xticklabels() + ax3.get_yticklabels()): label.set_fontsize(12)  \n",
        "\n",
        "  ax1.legend(['Jumps ($\\lambda$)'] , bbox_to_anchor=(-0.5, .85), loc='upper left', ncol = 3, fancybox = True, shadow = True, frameon  = True, fontsize = 12)\n",
        "  ax2.legend(['Return ($\\%$)'] , bbox_to_anchor=(-0.5, .85), loc='upper left', ncol = 3, fancybox = True, shadow = True, frameon  = True, fontsize = 12)\n",
        "  ax3.legend(['Volatility ($\\sigma$)'] , bbox_to_anchor=(-0.5, .85), loc='upper left', ncol = 3, fancybox = True, shadow = True, frameon  = True, fontsize = 12)\n",
        "\n",
        "  plt.tight_layout()    \n",
        "  plt.show()         \n",
        "     "
      ]
    },
    {
      "cell_type": "code",
      "execution_count": 44,
      "metadata": {
        "colab": {
          "base_uri": "https://localhost:8080/",
          "height": 297
        },
        "id": "I_-E9G7yRTab",
        "outputId": "65fc5dbf-9ffe-4986-f46a-3eee5d8d0fc4"
      },
      "outputs": [
        {
          "data": {
            "image/png": "[encoded data removed]",
            "text/plain": [
              "<Figure size 360.72x234 with 3 Axes>"
            ]
          },
          "metadata": {
            "needs_background": "light"
          },
          "output_type": "display_data"
        }
      ],
      "source": [
        "\n",
        "df['Return'] = df['Return'] - 1      #  transform the data\n",
        "df['Vol'] = df['Vol']*np.sqrt(252)   #  \n",
        "\n",
        "with plt.style.context('science'):\n",
        "  fig, (ax1, ax2, ax3) = plt.subplots(3, 1, figsize = (5.01, 3.25), sharex=True)\n",
        "\n",
        "  fig.suptitle('', fontsize = 14)\n",
        "\n",
        "  df[[y]].plot(  ax = ax1 , legend=False , color = '#0a57d1' ) # blue\n",
        "  df[[y2]].plot( ax = ax2 , legend=False , color = '#c4100a' ) # red\n",
        "  df[[y3]].plot( ax = ax3 , legend=False , color = '#10ad1f' ) # green \n",
        " \n",
        "  ax3.set_xlabel('Time', fontsize = 14)\n",
        "  \n",
        "  for label in (ax1.get_xticklabels() + ax1.get_yticklabels()): label.set_fontsize(12)  \n",
        "  for label in (ax2.get_xticklabels() + ax2.get_yticklabels()): label.set_fontsize(12)  \n",
        "  for label in (ax3.get_xticklabels() + ax3.get_yticklabels()): label.set_fontsize(12)  \n",
        "\n",
        "  fig.legend(('Jumps ($\\lambda$)', 'Return ($\\mu$)', 'Volatility ($\\sigma$)'), bbox_to_anchor=(0.91 , 1.03), ncol=3, bbox_transform=fig.transFigure, fancybox = True, shadow = True, frameon  = True, fontsize = 10)\n",
        "\n",
        "  #plt.tight_layout()\n",
        "  plt.savefig('plots/GBM_INPUTS.jpg' , dpi = 550)    \n",
        "  plt.show()      \n",
        "\n"
      ]
    },
    {
      "cell_type": "code",
      "execution_count": 57,
      "metadata": {
        "id": "vM4XaNopRTlm"
      },
      "outputs": [
        {
          "name": "stdout",
          "output_type": "stream",
          "text": [
            "(50, 100)\n"
          ]
        }
      ],
      "source": [
        "Delta_t = 1/252\n",
        "Time = 2/252\n",
        "\n",
        "SO = 69.46915\n",
        "\n",
        "TTM = 50\n",
        "n_lines = 100\n",
        "n_row = TTM\n",
        "\n",
        "S = np.array([0.0]*(TTM*n_lines))     #  empty data frame\n",
        "S = S.reshape(TTM, n_lines)\n",
        "print(S.shape)\n",
        "\n",
        "#SO = df['close_price'].iloc[0] \n",
        "#S_i =  df['close_price'].iloc[0] \n",
        "S[0,:] = SO\n",
        "\n",
        "for i in range(0, n_lines):\n",
        "\n",
        "  S_i =  SO \n",
        "\n",
        "  for j in range(1, TTM):\n",
        "\n",
        "    mu = df['Return'].iloc[(j-1)]\n",
        "    sigma = df['Vol'].iloc[(j-1)]\n",
        "    Lambda = df['Jumps'].iloc[(j-1)]\n",
        "\n",
        "    ####  syntax (S0,  mu, sigma,  LAMBDA, Time, Delta_t, n_lines)   ##########\n",
        "    S_i = MERTONS_JUMP(S_i, mu, sigma, Lambda, Time, Delta_t, 1)   \n",
        "    \n",
        "    S_i = float(S_i[1])\n",
        "    # print(str(mu) + '  ' + str(sigma) + '  ' + str(Lambda)  + '  ' + str(S_i) )\n",
        "\n",
        "    S[j,i] = S_i  \n",
        "\n"
      ]
    },
    {
      "cell_type": "code",
      "execution_count": 68,
      "metadata": {},
      "outputs": [
        {
          "data": {
            "image/png": "[encoded data removed]",
            "text/plain": [
              "<Figure size 252x252 with 1 Axes>"
            ]
          },
          "metadata": {
            "needs_background": "light"
          },
          "output_type": "display_data"
        }
      ],
      "source": [
        " \n",
        "with plt.style.context('science'):\n",
        "    fig, ax = plt.subplots(figsize=(3.5,3.5))\n",
        "    plt.plot(S)\n",
        "    \n",
        "    plt.ylabel(\"Stock Price $(\\$)$ \", fontsize = 14)\n",
        "    plt.xlabel(\"Trading Days\", fontsize = 14)\n",
        "    plt.title(\"Stock Price Simulation \\n (Merton's Jump Diffusion Model)\", fontsize = 14)\n",
        "    \n",
        "    plt.tight_layout()    \n",
        "    plt.savefig('plots/GBM_FINAL_SIM.jpg', dpi = 550)    \n",
        "    plt.show()\n",
        "\n"
      ]
    },
    {
      "cell_type": "code",
      "execution_count": 59,
      "metadata": {},
      "outputs": [
        {
          "data": {
            "text/html": [
              "<div>\n",
              "<style scoped>\n",
              "    .dataframe tbody tr th:only-of-type {\n",
              "        vertical-align: middle;\n",
              "    }\n",
              "\n",
              "    .dataframe tbody tr th {\n",
              "        vertical-align: top;\n",
              "    }\n",
              "\n",
              "    .dataframe thead th {\n",
              "        text-align: right;\n",
              "    }\n",
              "</style>\n",
              "<table border=\"1\" class=\"dataframe\">\n",
              "  <thead>\n",
              "    <tr style=\"text-align: right;\">\n",
              "      <th></th>\n",
              "      <th>0</th>\n",
              "      <th>1</th>\n",
              "      <th>2</th>\n",
              "      <th>3</th>\n",
              "      <th>4</th>\n",
              "      <th>5</th>\n",
              "      <th>6</th>\n",
              "      <th>7</th>\n",
              "      <th>8</th>\n",
              "      <th>9</th>\n",
              "      <th>...</th>\n",
              "      <th>90</th>\n",
              "      <th>91</th>\n",
              "      <th>92</th>\n",
              "      <th>93</th>\n",
              "      <th>94</th>\n",
              "      <th>95</th>\n",
              "      <th>96</th>\n",
              "      <th>97</th>\n",
              "      <th>98</th>\n",
              "      <th>99</th>\n",
              "    </tr>\n",
              "  </thead>\n",
              "  <tbody>\n",
              "    <tr>\n",
              "      <th>0</th>\n",
              "      <td>69.469150</td>\n",
              "      <td>69.469150</td>\n",
              "      <td>69.469150</td>\n",
              "      <td>69.469150</td>\n",
              "      <td>69.469150</td>\n",
              "      <td>69.469150</td>\n",
              "      <td>69.469150</td>\n",
              "      <td>69.469150</td>\n",
              "      <td>69.469150</td>\n",
              "      <td>69.469150</td>\n",
              "      <td>...</td>\n",
              "      <td>69.469150</td>\n",
              "      <td>69.469150</td>\n",
              "      <td>69.469150</td>\n",
              "      <td>69.469150</td>\n",
              "      <td>69.469150</td>\n",
              "      <td>69.469150</td>\n",
              "      <td>69.469150</td>\n",
              "      <td>69.469150</td>\n",
              "      <td>69.469150</td>\n",
              "      <td>69.469150</td>\n",
              "    </tr>\n",
              "    <tr>\n",
              "      <th>1</th>\n",
              "      <td>69.430887</td>\n",
              "      <td>69.483817</td>\n",
              "      <td>69.491456</td>\n",
              "      <td>69.452756</td>\n",
              "      <td>69.473533</td>\n",
              "      <td>69.457833</td>\n",
              "      <td>69.561163</td>\n",
              "      <td>69.395108</td>\n",
              "      <td>69.463234</td>\n",
              "      <td>69.579646</td>\n",
              "      <td>...</td>\n",
              "      <td>69.510241</td>\n",
              "      <td>69.456707</td>\n",
              "      <td>69.514088</td>\n",
              "      <td>69.513012</td>\n",
              "      <td>69.448041</td>\n",
              "      <td>69.461659</td>\n",
              "      <td>69.451326</td>\n",
              "      <td>69.464941</td>\n",
              "      <td>69.471595</td>\n",
              "      <td>69.514463</td>\n",
              "    </tr>\n",
              "    <tr>\n",
              "      <th>2</th>\n",
              "      <td>69.898355</td>\n",
              "      <td>69.576912</td>\n",
              "      <td>69.582824</td>\n",
              "      <td>69.888291</td>\n",
              "      <td>69.478569</td>\n",
              "      <td>69.442124</td>\n",
              "      <td>69.684140</td>\n",
              "      <td>69.475453</td>\n",
              "      <td>69.206985</td>\n",
              "      <td>69.372128</td>\n",
              "      <td>...</td>\n",
              "      <td>69.121195</td>\n",
              "      <td>69.307980</td>\n",
              "      <td>69.569780</td>\n",
              "      <td>68.969174</td>\n",
              "      <td>68.925088</td>\n",
              "      <td>69.651628</td>\n",
              "      <td>69.594660</td>\n",
              "      <td>69.407437</td>\n",
              "      <td>69.747282</td>\n",
              "      <td>69.663838</td>\n",
              "    </tr>\n",
              "    <tr>\n",
              "      <th>3</th>\n",
              "      <td>69.837778</td>\n",
              "      <td>69.494463</td>\n",
              "      <td>69.238400</td>\n",
              "      <td>70.319622</td>\n",
              "      <td>69.111155</td>\n",
              "      <td>69.322934</td>\n",
              "      <td>69.685650</td>\n",
              "      <td>69.732017</td>\n",
              "      <td>69.315941</td>\n",
              "      <td>68.858799</td>\n",
              "      <td>...</td>\n",
              "      <td>69.172024</td>\n",
              "      <td>69.264177</td>\n",
              "      <td>69.692704</td>\n",
              "      <td>69.099461</td>\n",
              "      <td>68.846504</td>\n",
              "      <td>69.558371</td>\n",
              "      <td>69.633374</td>\n",
              "      <td>69.923893</td>\n",
              "      <td>70.119923</td>\n",
              "      <td>69.588577</td>\n",
              "    </tr>\n",
              "    <tr>\n",
              "      <th>4</th>\n",
              "      <td>69.740559</td>\n",
              "      <td>69.622392</td>\n",
              "      <td>69.196453</td>\n",
              "      <td>70.412059</td>\n",
              "      <td>69.158890</td>\n",
              "      <td>69.541072</td>\n",
              "      <td>69.707090</td>\n",
              "      <td>69.680216</td>\n",
              "      <td>69.360867</td>\n",
              "      <td>68.971316</td>\n",
              "      <td>...</td>\n",
              "      <td>69.114407</td>\n",
              "      <td>69.327848</td>\n",
              "      <td>69.822116</td>\n",
              "      <td>69.182777</td>\n",
              "      <td>68.984091</td>\n",
              "      <td>69.448182</td>\n",
              "      <td>69.525764</td>\n",
              "      <td>70.024458</td>\n",
              "      <td>70.025209</td>\n",
              "      <td>69.632265</td>\n",
              "    </tr>\n",
              "  </tbody>\n",
              "</table>\n",
              "<p>5 rows × 100 columns</p>\n",
              "</div>"
            ],
            "text/plain": [
              "          0          1          2          3          4          5   \\\n",
              "0  69.469150  69.469150  69.469150  69.469150  69.469150  69.469150   \n",
              "1  69.430887  69.483817  69.491456  69.452756  69.473533  69.457833   \n",
              "2  69.898355  69.576912  69.582824  69.888291  69.478569  69.442124   \n",
              "3  69.837778  69.494463  69.238400  70.319622  69.111155  69.322934   \n",
              "4  69.740559  69.622392  69.196453  70.412059  69.158890  69.541072   \n",
              "\n",
              "          6          7          8          9   ...         90         91  \\\n",
              "0  69.469150  69.469150  69.469150  69.469150  ...  69.469150  69.469150   \n",
              "1  69.561163  69.395108  69.463234  69.579646  ...  69.510241  69.456707   \n",
              "2  69.684140  69.475453  69.206985  69.372128  ...  69.121195  69.307980   \n",
              "3  69.685650  69.732017  69.315941  68.858799  ...  69.172024  69.264177   \n",
              "4  69.707090  69.680216  69.360867  68.971316  ...  69.114407  69.327848   \n",
              "\n",
              "          92         93         94         95         96         97  \\\n",
              "0  69.469150  69.469150  69.469150  69.469150  69.469150  69.469150   \n",
              "1  69.514088  69.513012  69.448041  69.461659  69.451326  69.464941   \n",
              "2  69.569780  68.969174  68.925088  69.651628  69.594660  69.407437   \n",
              "3  69.692704  69.099461  68.846504  69.558371  69.633374  69.923893   \n",
              "4  69.822116  69.182777  68.984091  69.448182  69.525764  70.024458   \n",
              "\n",
              "          98         99  \n",
              "0  69.469150  69.469150  \n",
              "1  69.471595  69.514463  \n",
              "2  69.747282  69.663838  \n",
              "3  70.119923  69.588577  \n",
              "4  70.025209  69.632265  \n",
              "\n",
              "[5 rows x 100 columns]"
            ]
          },
          "execution_count": 59,
          "metadata": {},
          "output_type": "execute_result"
        }
      ],
      "source": [
        "GBM_JUMP_DF = pd.DataFrame( S )\n",
        "GBM_JUMP_DF.head()"
      ]
    },
    {
      "cell_type": "code",
      "execution_count": 61,
      "metadata": {},
      "outputs": [],
      "source": [
        "\n",
        "\n",
        "GBM_JUMP_DF.to_excel('GBM_JUMP_DF.xlsx', index = False)\n",
        "\n"
      ]
    },
    {
      "cell_type": "code",
      "execution_count": 62,
      "metadata": {},
      "outputs": [],
      "source": [
        "url = 'https://github.com/Riley25/FE-800/blob/main/GBM_JUMP_DF.xlsx?raw=true'\n",
        "GBM_JUMP_DF_v2 = pd.read_excel(url)\n"
      ]
    },
    {
      "cell_type": "code",
      "execution_count": 63,
      "metadata": {},
      "outputs": [
        {
          "data": {
            "text/html": [
              "<div>\n",
              "<style scoped>\n",
              "    .dataframe tbody tr th:only-of-type {\n",
              "        vertical-align: middle;\n",
              "    }\n",
              "\n",
              "    .dataframe tbody tr th {\n",
              "        vertical-align: top;\n",
              "    }\n",
              "\n",
              "    .dataframe thead th {\n",
              "        text-align: right;\n",
              "    }\n",
              "</style>\n",
              "<table border=\"1\" class=\"dataframe\">\n",
              "  <thead>\n",
              "    <tr style=\"text-align: right;\">\n",
              "      <th></th>\n",
              "      <th>0</th>\n",
              "      <th>1</th>\n",
              "      <th>2</th>\n",
              "      <th>3</th>\n",
              "      <th>4</th>\n",
              "      <th>5</th>\n",
              "      <th>6</th>\n",
              "      <th>7</th>\n",
              "      <th>8</th>\n",
              "      <th>9</th>\n",
              "      <th>...</th>\n",
              "      <th>90</th>\n",
              "      <th>91</th>\n",
              "      <th>92</th>\n",
              "      <th>93</th>\n",
              "      <th>94</th>\n",
              "      <th>95</th>\n",
              "      <th>96</th>\n",
              "      <th>97</th>\n",
              "      <th>98</th>\n",
              "      <th>99</th>\n",
              "    </tr>\n",
              "  </thead>\n",
              "  <tbody>\n",
              "    <tr>\n",
              "      <th>0</th>\n",
              "      <td>69.469150</td>\n",
              "      <td>69.469150</td>\n",
              "      <td>69.469150</td>\n",
              "      <td>69.469150</td>\n",
              "      <td>69.469150</td>\n",
              "      <td>69.469150</td>\n",
              "      <td>69.469150</td>\n",
              "      <td>69.469150</td>\n",
              "      <td>69.469150</td>\n",
              "      <td>69.469150</td>\n",
              "      <td>...</td>\n",
              "      <td>69.469150</td>\n",
              "      <td>69.469150</td>\n",
              "      <td>69.469150</td>\n",
              "      <td>69.469150</td>\n",
              "      <td>69.469150</td>\n",
              "      <td>69.469150</td>\n",
              "      <td>69.469150</td>\n",
              "      <td>69.469150</td>\n",
              "      <td>69.469150</td>\n",
              "      <td>69.469150</td>\n",
              "    </tr>\n",
              "    <tr>\n",
              "      <th>1</th>\n",
              "      <td>69.430887</td>\n",
              "      <td>69.483817</td>\n",
              "      <td>69.491456</td>\n",
              "      <td>69.452756</td>\n",
              "      <td>69.473533</td>\n",
              "      <td>69.457833</td>\n",
              "      <td>69.561163</td>\n",
              "      <td>69.395108</td>\n",
              "      <td>69.463234</td>\n",
              "      <td>69.579646</td>\n",
              "      <td>...</td>\n",
              "      <td>69.510241</td>\n",
              "      <td>69.456707</td>\n",
              "      <td>69.514088</td>\n",
              "      <td>69.513012</td>\n",
              "      <td>69.448041</td>\n",
              "      <td>69.461659</td>\n",
              "      <td>69.451326</td>\n",
              "      <td>69.464941</td>\n",
              "      <td>69.471595</td>\n",
              "      <td>69.514463</td>\n",
              "    </tr>\n",
              "  </tbody>\n",
              "</table>\n",
              "<p>2 rows × 100 columns</p>\n",
              "</div>"
            ],
            "text/plain": [
              "          0          1          2          3          4          5   \\\n",
              "0  69.469150  69.469150  69.469150  69.469150  69.469150  69.469150   \n",
              "1  69.430887  69.483817  69.491456  69.452756  69.473533  69.457833   \n",
              "\n",
              "          6          7          8          9   ...         90         91  \\\n",
              "0  69.469150  69.469150  69.469150  69.469150  ...  69.469150  69.469150   \n",
              "1  69.561163  69.395108  69.463234  69.579646  ...  69.510241  69.456707   \n",
              "\n",
              "          92         93         94         95         96         97  \\\n",
              "0  69.469150  69.469150  69.469150  69.469150  69.469150  69.469150   \n",
              "1  69.514088  69.513012  69.448041  69.461659  69.451326  69.464941   \n",
              "\n",
              "          98         99  \n",
              "0  69.469150  69.469150  \n",
              "1  69.471595  69.514463  \n",
              "\n",
              "[2 rows x 100 columns]"
            ]
          },
          "execution_count": 63,
          "metadata": {},
          "output_type": "execute_result"
        }
      ],
      "source": [
        "GBM_JUMP_DF_v2.head(2)\n"
      ]
    },
    {
      "cell_type": "code",
      "execution_count": null,
      "metadata": {},
      "outputs": [],
      "source": [
        "n_row, n_col = GBM_JUMP_DF_v2.shape   "
      ]
    },
    {
      "cell_type": "code",
      "execution_count": 67,
      "metadata": {},
      "outputs": [
        {
          "data": {
            "text/plain": [
              "69.46915"
            ]
          },
          "execution_count": 67,
          "metadata": {},
          "output_type": "execute_result"
        }
      ],
      "source": [
        "# [col][row]\n",
        "# GBM_JUMP_DF_v2[]][1]  "
      ]
    },
    {
      "cell_type": "code",
      "execution_count": null,
      "metadata": {},
      "outputs": [],
      "source": []
    },
    {
      "cell_type": "code",
      "execution_count": null,
      "metadata": {},
      "outputs": [],
      "source": []
    },
    {
      "cell_type": "code",
      "execution_count": null,
      "metadata": {},
      "outputs": [],
      "source": []
    },
    {
      "cell_type": "markdown",
      "metadata": {},
      "source": [
        "#### Profit and Loss (PnL)"
      ]
    },
    {
      "cell_type": "code",
      "execution_count": 200,
      "metadata": {},
      "outputs": [],
      "source": [
        "def BS_PRICE(S, K, sigma, delta, r, time):\n",
        "  d1 = ((np.log(S/K)) + (((r-delta)+.5*sigma*sigma)*time))\n",
        "  d1= d1/(sigma*np.sqrt(time))\n",
        "  nd1 = norm.cdf(d1,loc=0, scale=1)\n",
        "\n",
        "  d2 = d1 -sigma*np.sqrt(time)\n",
        "  nd2 = norm.cdf(d2,loc=0, scale=1)\n",
        "\n",
        "  BS_CALL = S*np.exp(-delta*time)*nd1 - K*np.exp(-r*time)*nd2  \n",
        "  BS_PUT = BS_CALL + K*np.exp(-r*time) - S*np.exp(-delta*time)\n",
        "  return(BS_CALL, BS_PUT)"
      ]
    },
    {
      "cell_type": "code",
      "execution_count": 199,
      "metadata": {},
      "outputs": [],
      "source": [
        "\n",
        "def CHOOSER_PRICE(So, K, r, q, sigma, TIME, time ):\n",
        "\n",
        "    d1 = (np.log( So / K )  + (r - q + (sigma**2)/2)*TIME) / sigma * np.sqrt(TIME)   \n",
        "\n",
        "    d2 = d1 - sigma * np.sqrt(TIME)\n",
        "\n",
        "    d1_star = (np.log( So / K )  + (r - q)*TIME + ((sigma**2/2)*time) ) / sigma * np.sqrt(time)\n",
        "\n",
        "    d2_star = d1_star - sigma * np.sqrt(time)\n",
        "\n",
        "    price = So * np.exp( -q*TIME ) * norm.cdf(d1,loc=0, scale=1) - K * np.exp(-r*TIME) * norm.cdf(d2,loc=0, scale=1) - So * np.exp( -q*TIME ) * norm.cdf(-d1_star,loc=0, scale=1) + K * np.exp( -r * TIME) * norm.cdf(-d2_star, loc=0, scale=1)\n",
        "\n",
        "    return(price) "
      ]
    },
    {
      "cell_type": "code",
      "execution_count": 198,
      "metadata": {},
      "outputs": [],
      "source": [
        "def CHOOSER_DELTA(So, K, r, q, sigma, TIME, time):\n",
        "    \n",
        "    d1 = (np.log( So / K )  + (r - q + (sigma**2)/2)*TIME) / sigma * np.sqrt(TIME)   \n",
        "    d2 = d1 - sigma * np.sqrt(TIME)\n",
        "\n",
        "    d1_star = (np.log( So / K )  + (r - q)*TIME + ((sigma**2/2)*time) ) / sigma * np.sqrt(time)\n",
        "    d2_star = d1_star - sigma * np.sqrt(time)\n",
        "    \n",
        "    delta = np.exp(-q * TIME) * norm.cdf(d1) + np.exp(-q * TIME) * (norm.cdf(d1_star) - 1)\n",
        "        \n",
        "    return(delta)"
      ]
    },
    {
      "cell_type": "code",
      "execution_count": 197,
      "metadata": {},
      "outputs": [],
      "source": [
        "\n",
        "def delta_neutral_pnl(S, K, TIME, r, q, sigma, time, S1, S2):\n",
        "    \n",
        "    # option premium\n",
        "    o_price = CHOOSER_PRICE(S, K, r, q, sigma, TIME, time )\n",
        "    \n",
        "    # at time 0, build up portfolio \n",
        "    delta = CHOOSER_DELTA(S, K, TIME, time, r, q, sigma ) # chooser option delta at 08/01, and premium\n",
        "    #contracts = (-  * S) / delta\n",
        "    contracts = 1\n",
        "    premium = contracts * o_price\n",
        "    \n",
        "    # at time t, decide to choose either call or put\n",
        "    c, p = BS_PRICE(S, K, sigma, delta, r, time)\n",
        "\n",
        "    p = c + K * np.exp(-r * TIME) - S1\n",
        "    \n",
        "    if c >= p:\n",
        "        # we choose call, pnl calculated as follow\n",
        "        pnl = (S2 - S)  + (S2 - K) * contracts - premium\n",
        "    else:\n",
        "        # we choose put , pnl calculated as follow\n",
        "        pnl = (S2 - S) + (K - S2) * contracts - premium \n",
        "    return(pnl)\n",
        "\n"
      ]
    },
    {
      "cell_type": "code",
      "execution_count": null,
      "metadata": {},
      "outputs": [],
      "source": [
        "\n",
        "sigma = .28\n",
        "r = 0.0425\n",
        "q = 0.0065\n",
        "\n",
        "TIME = TTM\n",
        "time = (TTM / 2)\n",
        "\n"
      ]
    },
    {
      "cell_type": "code",
      "execution_count": 202,
      "metadata": {
        "id": "XM5AkFerRTt0"
      },
      "outputs": [],
      "source": [
        "\n",
        "# delta_neutral_pnl(S, K, TIME, r, q, sigma, time, S1, S2)\n",
        "\n"
      ]
    },
    {
      "cell_type": "code",
      "execution_count": null,
      "metadata": {
        "id": "ohtqvc-35XWu"
      },
      "outputs": [],
      "source": []
    },
    {
      "cell_type": "code",
      "execution_count": null,
      "metadata": {
        "id": "umie2lJQrjHt"
      },
      "outputs": [],
      "source": []
    },
    {
      "cell_type": "code",
      "execution_count": null,
      "metadata": {
        "id": "oIT0BpaTrjRk"
      },
      "outputs": [],
      "source": []
    }
  ],
  "metadata": {
    "colab": {
      "provenance": []
    },
    "kernelspec": {
      "display_name": "Python 3.9.9 64-bit",
      "language": "python",
      "name": "python3"
    },
    "language_info": {
      "codemirror_mode": {
        "name": "ipython",
        "version": 3
      },
      "file_extension": ".py",
      "mimetype": "text/x-python",
      "name": "python",
      "nbconvert_exporter": "python",
      "pygments_lexer": "ipython3",
      "version": "3.9.9"
    },
    "vscode": {
      "interpreter": {
        "hash": "716494ec1fb2b77a42eedaac63697f1c016542dbc22302930eed5cdcf725770f"
      }
    }
  },
  "nbformat": 4,
  "nbformat_minor": 0
}
