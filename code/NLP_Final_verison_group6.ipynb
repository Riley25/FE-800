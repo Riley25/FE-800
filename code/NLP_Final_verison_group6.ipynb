{
  "nbformat": 4,
  "nbformat_minor": 0,
  "metadata": {
    "colab": {
      "provenance": [],
      "machine_shape": "hm"
    },
    "kernelspec": {
      "name": "python3",
      "display_name": "Python 3"
    },
    "language_info": {
      "name": "python"
    },
    "accelerator": "TPU",
    "gpuClass": "standard"
  },
  "cells": [
    {
      "cell_type": "code",
      "execution_count": null,
      "metadata": {
        "id": "PTiYvCVgMqVp"
      },
      "outputs": [],
      "source": [
        "import numpy as np\n",
        "import seaborn as sns\n",
        "import tensorflow as tf\n",
        "from tensorflow import keras\n",
        "from tensorflow.keras import layers\n",
        "\n",
        "import pandas as pd\n",
        "import matplotlib.pyplot as plt\n",
        "from sklearn.preprocessing import StandardScaler, MinMaxScaler\n",
        "from sklearn.model_selection import train_test_split, TimeSeriesSplit\n",
        "\n",
        "from tensorflow.keras import Sequential, layers, utils, losses\n",
        "from tensorflow.keras.callbacks import ModelCheckpoint, TensorBoard\n",
        "from keras.utils.vis_utils import plot_model"
      ]
    },
    {
      "cell_type": "code",
      "source": [
        "from google.colab import drive\n",
        "drive.mount('drive') "
      ],
      "metadata": {
        "colab": {
          "base_uri": "https://localhost:8080/"
        },
        "id": "vqvpqPJKM4ap",
        "outputId": "62a7e77f-0f94-4c12-9be8-53c0fa2ee640"
      },
      "execution_count": null,
      "outputs": [
        {
          "output_type": "stream",
          "name": "stdout",
          "text": [
            "Mounted at drive\n"
          ]
        }
      ]
    },
    {
      "cell_type": "code",
      "source": [
        "df = pd.read_csv('/content/drive/MyDrive/combined_df.csv')\n",
        "df['return'] = np.exp(df['log_price_change'])\n",
        "df"
      ],
      "metadata": {
        "colab": {
          "base_uri": "https://localhost:8080/",
          "height": 424
        },
        "id": "JeZUBeUHM5z2",
        "outputId": "ef323d87-e560-4101-eef6-8641d1ca969b"
      },
      "execution_count": null,
      "outputs": [
        {
          "output_type": "execute_result",
          "data": {
            "text/plain": [
              "     Unnamed: 0                   Week        Open        High         Low  \\\n",
              "0             0  2010-01-04/2010-01-10   30.393929   30.529287   30.075357   \n",
              "1             1  2010-01-11/2010-01-17   37.532143   37.705715   36.923572   \n",
              "2             2  2010-01-18/2010-01-24   30.075000   30.412499   29.325358   \n",
              "3             3  2010-01-25/2010-01-31   36.475715   37.024642   35.401786   \n",
              "4             4  2010-02-01/2010-02-07   34.743214   35.246072   34.340000   \n",
              "..          ...                    ...         ...         ...         ...   \n",
              "660         660  2022-08-29/2022-09-04  799.979996  804.819992  784.320007   \n",
              "661         661  2022-09-05/2022-09-11  621.400009  627.940002  614.729996   \n",
              "662         662  2022-09-12/2022-09-18  780.139984  788.490005  766.029999   \n",
              "663         663  2022-09-19/2022-09-25  763.619995  777.320007  755.250015   \n",
              "664         664  2022-09-26/2022-10-02  737.420013  748.950012  723.109985   \n",
              "\n",
              "          Close   Adj Close      Volume  log_Price  log_price_change  \\\n",
              "0     30.282500   25.813346  2078806800   7.458292         -0.005054   \n",
              "1     37.280000   31.778138  2689542800   9.246531         -0.015545   \n",
              "2     29.735357   25.346950  2832082400   7.383482         -0.021589   \n",
              "3     36.008572   30.694354  7074832800   9.071252         -0.015768   \n",
              "4     34.904643   29.753338  3671505600   8.917170          0.010228   \n",
              "..          ...         ...         ...        ...               ...   \n",
              "660  791.280014  789.969574   390399000  25.312438         -0.009630   \n",
              "661  622.320007  621.289383   314117000  20.181893          0.001984   \n",
              "662  775.649979  774.365402   568337900  25.211036         -0.008491   \n",
              "663  768.269989  766.997635   473543200  25.164753         -0.000327   \n",
              "664  733.049988  731.835968   577537000  24.927240         -0.016990   \n",
              "\n",
              "     Number_of_Jumps     Score    return       vol  \n",
              "0                  1  0.050072  0.994959  0.005054  \n",
              "1                  3 -0.018721  0.984575  0.015545  \n",
              "2                  4  0.030548  0.978642  0.021589  \n",
              "3                  4  0.126954  0.984355  0.015768  \n",
              "4                  4  0.123942  1.010281  0.010228  \n",
              "..               ...       ...       ...       ...  \n",
              "660                0  0.012074  0.990417  0.009630  \n",
              "661                0  0.036968  1.001986  0.001984  \n",
              "662                2  0.066218  0.991545  0.008491  \n",
              "663                0  0.102698  0.999673  0.000327  \n",
              "664                2 -0.023962  0.983154  0.016990  \n",
              "\n",
              "[665 rows x 14 columns]"
            ],
            "text/html": [
              "\n",
              "  <div id=\"df-728ac4b3-0dac-46f5-bb38-f6919e1fdb72\">\n",
              "    <div class=\"colab-df-container\">\n",
              "      <div>\n",
              "<style scoped>\n",
              "    .dataframe tbody tr th:only-of-type {\n",
              "        vertical-align: middle;\n",
              "    }\n",
              "\n",
              "    .dataframe tbody tr th {\n",
              "        vertical-align: top;\n",
              "    }\n",
              "\n",
              "    .dataframe thead th {\n",
              "        text-align: right;\n",
              "    }\n",
              "</style>\n",
              "<table border=\"1\" class=\"dataframe\">\n",
              "  <thead>\n",
              "    <tr style=\"text-align: right;\">\n",
              "      <th></th>\n",
              "      <th>Unnamed: 0</th>\n",
              "      <th>Week</th>\n",
              "      <th>Open</th>\n",
              "      <th>High</th>\n",
              "      <th>Low</th>\n",
              "      <th>Close</th>\n",
              "      <th>Adj Close</th>\n",
              "      <th>Volume</th>\n",
              "      <th>log_Price</th>\n",
              "      <th>log_price_change</th>\n",
              "      <th>Number_of_Jumps</th>\n",
              "      <th>Score</th>\n",
              "      <th>return</th>\n",
              "      <th>vol</th>\n",
              "    </tr>\n",
              "  </thead>\n",
              "  <tbody>\n",
              "    <tr>\n",
              "      <th>0</th>\n",
              "      <td>0</td>\n",
              "      <td>2010-01-04/2010-01-10</td>\n",
              "      <td>30.393929</td>\n",
              "      <td>30.529287</td>\n",
              "      <td>30.075357</td>\n",
              "      <td>30.282500</td>\n",
              "      <td>25.813346</td>\n",
              "      <td>2078806800</td>\n",
              "      <td>7.458292</td>\n",
              "      <td>-0.005054</td>\n",
              "      <td>1</td>\n",
              "      <td>0.050072</td>\n",
              "      <td>0.994959</td>\n",
              "      <td>0.005054</td>\n",
              "    </tr>\n",
              "    <tr>\n",
              "      <th>1</th>\n",
              "      <td>1</td>\n",
              "      <td>2010-01-11/2010-01-17</td>\n",
              "      <td>37.532143</td>\n",
              "      <td>37.705715</td>\n",
              "      <td>36.923572</td>\n",
              "      <td>37.280000</td>\n",
              "      <td>31.778138</td>\n",
              "      <td>2689542800</td>\n",
              "      <td>9.246531</td>\n",
              "      <td>-0.015545</td>\n",
              "      <td>3</td>\n",
              "      <td>-0.018721</td>\n",
              "      <td>0.984575</td>\n",
              "      <td>0.015545</td>\n",
              "    </tr>\n",
              "    <tr>\n",
              "      <th>2</th>\n",
              "      <td>2</td>\n",
              "      <td>2010-01-18/2010-01-24</td>\n",
              "      <td>30.075000</td>\n",
              "      <td>30.412499</td>\n",
              "      <td>29.325358</td>\n",
              "      <td>29.735357</td>\n",
              "      <td>25.346950</td>\n",
              "      <td>2832082400</td>\n",
              "      <td>7.383482</td>\n",
              "      <td>-0.021589</td>\n",
              "      <td>4</td>\n",
              "      <td>0.030548</td>\n",
              "      <td>0.978642</td>\n",
              "      <td>0.021589</td>\n",
              "    </tr>\n",
              "    <tr>\n",
              "      <th>3</th>\n",
              "      <td>3</td>\n",
              "      <td>2010-01-25/2010-01-31</td>\n",
              "      <td>36.475715</td>\n",
              "      <td>37.024642</td>\n",
              "      <td>35.401786</td>\n",
              "      <td>36.008572</td>\n",
              "      <td>30.694354</td>\n",
              "      <td>7074832800</td>\n",
              "      <td>9.071252</td>\n",
              "      <td>-0.015768</td>\n",
              "      <td>4</td>\n",
              "      <td>0.126954</td>\n",
              "      <td>0.984355</td>\n",
              "      <td>0.015768</td>\n",
              "    </tr>\n",
              "    <tr>\n",
              "      <th>4</th>\n",
              "      <td>4</td>\n",
              "      <td>2010-02-01/2010-02-07</td>\n",
              "      <td>34.743214</td>\n",
              "      <td>35.246072</td>\n",
              "      <td>34.340000</td>\n",
              "      <td>34.904643</td>\n",
              "      <td>29.753338</td>\n",
              "      <td>3671505600</td>\n",
              "      <td>8.917170</td>\n",
              "      <td>0.010228</td>\n",
              "      <td>4</td>\n",
              "      <td>0.123942</td>\n",
              "      <td>1.010281</td>\n",
              "      <td>0.010228</td>\n",
              "    </tr>\n",
              "    <tr>\n",
              "      <th>...</th>\n",
              "      <td>...</td>\n",
              "      <td>...</td>\n",
              "      <td>...</td>\n",
              "      <td>...</td>\n",
              "      <td>...</td>\n",
              "      <td>...</td>\n",
              "      <td>...</td>\n",
              "      <td>...</td>\n",
              "      <td>...</td>\n",
              "      <td>...</td>\n",
              "      <td>...</td>\n",
              "      <td>...</td>\n",
              "      <td>...</td>\n",
              "      <td>...</td>\n",
              "    </tr>\n",
              "    <tr>\n",
              "      <th>660</th>\n",
              "      <td>660</td>\n",
              "      <td>2022-08-29/2022-09-04</td>\n",
              "      <td>799.979996</td>\n",
              "      <td>804.819992</td>\n",
              "      <td>784.320007</td>\n",
              "      <td>791.280014</td>\n",
              "      <td>789.969574</td>\n",
              "      <td>390399000</td>\n",
              "      <td>25.312438</td>\n",
              "      <td>-0.009630</td>\n",
              "      <td>0</td>\n",
              "      <td>0.012074</td>\n",
              "      <td>0.990417</td>\n",
              "      <td>0.009630</td>\n",
              "    </tr>\n",
              "    <tr>\n",
              "      <th>661</th>\n",
              "      <td>661</td>\n",
              "      <td>2022-09-05/2022-09-11</td>\n",
              "      <td>621.400009</td>\n",
              "      <td>627.940002</td>\n",
              "      <td>614.729996</td>\n",
              "      <td>622.320007</td>\n",
              "      <td>621.289383</td>\n",
              "      <td>314117000</td>\n",
              "      <td>20.181893</td>\n",
              "      <td>0.001984</td>\n",
              "      <td>0</td>\n",
              "      <td>0.036968</td>\n",
              "      <td>1.001986</td>\n",
              "      <td>0.001984</td>\n",
              "    </tr>\n",
              "    <tr>\n",
              "      <th>662</th>\n",
              "      <td>662</td>\n",
              "      <td>2022-09-12/2022-09-18</td>\n",
              "      <td>780.139984</td>\n",
              "      <td>788.490005</td>\n",
              "      <td>766.029999</td>\n",
              "      <td>775.649979</td>\n",
              "      <td>774.365402</td>\n",
              "      <td>568337900</td>\n",
              "      <td>25.211036</td>\n",
              "      <td>-0.008491</td>\n",
              "      <td>2</td>\n",
              "      <td>0.066218</td>\n",
              "      <td>0.991545</td>\n",
              "      <td>0.008491</td>\n",
              "    </tr>\n",
              "    <tr>\n",
              "      <th>663</th>\n",
              "      <td>663</td>\n",
              "      <td>2022-09-19/2022-09-25</td>\n",
              "      <td>763.619995</td>\n",
              "      <td>777.320007</td>\n",
              "      <td>755.250015</td>\n",
              "      <td>768.269989</td>\n",
              "      <td>766.997635</td>\n",
              "      <td>473543200</td>\n",
              "      <td>25.164753</td>\n",
              "      <td>-0.000327</td>\n",
              "      <td>0</td>\n",
              "      <td>0.102698</td>\n",
              "      <td>0.999673</td>\n",
              "      <td>0.000327</td>\n",
              "    </tr>\n",
              "    <tr>\n",
              "      <th>664</th>\n",
              "      <td>664</td>\n",
              "      <td>2022-09-26/2022-10-02</td>\n",
              "      <td>737.420013</td>\n",
              "      <td>748.950012</td>\n",
              "      <td>723.109985</td>\n",
              "      <td>733.049988</td>\n",
              "      <td>731.835968</td>\n",
              "      <td>577537000</td>\n",
              "      <td>24.927240</td>\n",
              "      <td>-0.016990</td>\n",
              "      <td>2</td>\n",
              "      <td>-0.023962</td>\n",
              "      <td>0.983154</td>\n",
              "      <td>0.016990</td>\n",
              "    </tr>\n",
              "  </tbody>\n",
              "</table>\n",
              "<p>665 rows × 14 columns</p>\n",
              "</div>\n",
              "      <button class=\"colab-df-convert\" onclick=\"convertToInteractive('df-728ac4b3-0dac-46f5-bb38-f6919e1fdb72')\"\n",
              "              title=\"Convert this dataframe to an interactive table.\"\n",
              "              style=\"display:none;\">\n",
              "        \n",
              "  <svg xmlns=\"http://www.w3.org/2000/svg\" height=\"24px\"viewBox=\"0 0 24 24\"\n",
              "       width=\"24px\">\n",
              "    <path d=\"M0 0h24v24H0V0z\" fill=\"none\"/>\n",
              "    <path d=\"M18.56 5.44l.94 2.06.94-2.06 2.06-.94-2.06-.94-.94-2.06-.94 2.06-2.06.94zm-11 1L8.5 8.5l.94-2.06 2.06-.94-2.06-.94L8.5 2.5l-.94 2.06-2.06.94zm10 10l.94 2.06.94-2.06 2.06-.94-2.06-.94-.94-2.06-.94 2.06-2.06.94z\"/><path d=\"M17.41 7.96l-1.37-1.37c-.4-.4-.92-.59-1.43-.59-.52 0-1.04.2-1.43.59L10.3 9.45l-7.72 7.72c-.78.78-.78 2.05 0 2.83L4 21.41c.39.39.9.59 1.41.59.51 0 1.02-.2 1.41-.59l7.78-7.78 2.81-2.81c.8-.78.8-2.07 0-2.86zM5.41 20L4 18.59l7.72-7.72 1.47 1.35L5.41 20z\"/>\n",
              "  </svg>\n",
              "      </button>\n",
              "      \n",
              "  <style>\n",
              "    .colab-df-container {\n",
              "      display:flex;\n",
              "      flex-wrap:wrap;\n",
              "      gap: 12px;\n",
              "    }\n",
              "\n",
              "    .colab-df-convert {\n",
              "      background-color: #E8F0FE;\n",
              "      border: none;\n",
              "      border-radius: 50%;\n",
              "      cursor: pointer;\n",
              "      display: none;\n",
              "      fill: #1967D2;\n",
              "      height: 32px;\n",
              "      padding: 0 0 0 0;\n",
              "      width: 32px;\n",
              "    }\n",
              "\n",
              "    .colab-df-convert:hover {\n",
              "      background-color: #E2EBFA;\n",
              "      box-shadow: 0px 1px 2px rgba(60, 64, 67, 0.3), 0px 1px 3px 1px rgba(60, 64, 67, 0.15);\n",
              "      fill: #174EA6;\n",
              "    }\n",
              "\n",
              "    [theme=dark] .colab-df-convert {\n",
              "      background-color: #3B4455;\n",
              "      fill: #D2E3FC;\n",
              "    }\n",
              "\n",
              "    [theme=dark] .colab-df-convert:hover {\n",
              "      background-color: #434B5C;\n",
              "      box-shadow: 0px 1px 3px 1px rgba(0, 0, 0, 0.15);\n",
              "      filter: drop-shadow(0px 1px 2px rgba(0, 0, 0, 0.3));\n",
              "      fill: #FFFFFF;\n",
              "    }\n",
              "  </style>\n",
              "\n",
              "      <script>\n",
              "        const buttonEl =\n",
              "          document.querySelector('#df-728ac4b3-0dac-46f5-bb38-f6919e1fdb72 button.colab-df-convert');\n",
              "        buttonEl.style.display =\n",
              "          google.colab.kernel.accessAllowed ? 'block' : 'none';\n",
              "\n",
              "        async function convertToInteractive(key) {\n",
              "          const element = document.querySelector('#df-728ac4b3-0dac-46f5-bb38-f6919e1fdb72');\n",
              "          const dataTable =\n",
              "            await google.colab.kernel.invokeFunction('convertToInteractive',\n",
              "                                                     [key], {});\n",
              "          if (!dataTable) return;\n",
              "\n",
              "          const docLinkHtml = 'Like what you see? Visit the ' +\n",
              "            '<a target=\"_blank\" href=https://colab.research.google.com/notebooks/data_table.ipynb>data table notebook</a>'\n",
              "            + ' to learn more about interactive tables.';\n",
              "          element.innerHTML = '';\n",
              "          dataTable['output_type'] = 'display_data';\n",
              "          await google.colab.output.renderOutput(dataTable, element);\n",
              "          const docLink = document.createElement('div');\n",
              "          docLink.innerHTML = docLinkHtml;\n",
              "          element.appendChild(docLink);\n",
              "        }\n",
              "      </script>\n",
              "    </div>\n",
              "  </div>\n",
              "  "
            ]
          },
          "metadata": {},
          "execution_count": 3
        }
      ]
    },
    {
      "cell_type": "code",
      "source": [
        "test = df[['Week','Adj Close']]\n",
        "price = test['Adj Close'].iloc[536:-1]"
      ],
      "metadata": {
        "id": "D-SnAei6cOqm"
      },
      "execution_count": null,
      "outputs": []
    },
    {
      "cell_type": "code",
      "source": [
        "price"
      ],
      "metadata": {
        "colab": {
          "base_uri": "https://localhost:8080/"
        },
        "id": "DmqOrQ_LeGzp",
        "outputId": "ab83719f-8b35-4487-e31a-2794acd69ecc"
      },
      "execution_count": null,
      "outputs": [
        {
          "output_type": "execute_result",
          "data": {
            "text/plain": [
              "536    347.191910\n",
              "537    338.643600\n",
              "538    351.642876\n",
              "539    369.738571\n",
              "540    381.881004\n",
              "          ...    \n",
              "659    834.595520\n",
              "660    789.969574\n",
              "661    621.289383\n",
              "662    774.365402\n",
              "663    766.997635\n",
              "Name: Adj Close, Length: 128, dtype: float64"
            ]
          },
          "metadata": {},
          "execution_count": 5
        }
      ]
    },
    {
      "cell_type": "code",
      "source": [
        "price = price.tolist()"
      ],
      "metadata": {
        "id": "Xa_LpjbDdvds"
      },
      "execution_count": null,
      "outputs": []
    },
    {
      "cell_type": "code",
      "source": [],
      "metadata": {
        "id": "y7HHwsGpeymG"
      },
      "execution_count": null,
      "outputs": []
    },
    {
      "cell_type": "markdown",
      "source": [
        "# Econometrics Examination"
      ],
      "metadata": {
        "id": "RDFdvXJkOW5R"
      }
    },
    {
      "cell_type": "code",
      "source": [
        "df_econo = df[['return','log_price_change','Score']]"
      ],
      "metadata": {
        "id": "tbcblHJ2Z1Fj"
      },
      "execution_count": null,
      "outputs": []
    },
    {
      "cell_type": "code",
      "source": [
        "n_obs = 10\n",
        "df_train, df_test = df_econo[0:-n_obs], df_econo[-n_obs:]\n",
        "\n",
        "from statsmodels.tsa.stattools import adfuller\n",
        "\n",
        "def adf_test(df):\n",
        "    result = adfuller(df.values)\n",
        "    print('ADF Statistics: %f' % result[0])\n",
        "    print('p-value: %f' % result[1])\n",
        "    print('Critical values:')\n",
        "    for key, value in result[4].items():\n",
        "        print('\\t%s: %.3f' % (key, value))\n",
        "\n",
        "print('the Null Hypothesis (H0): Series data is not stationary')\n",
        "print('the Alternative Hypothesis (H1): Series data is stationary\\n')\n",
        "        \n",
        "print('ADF Test: log_price_change time series')\n",
        "adf_test(df_train['log_price_change'])\n",
        "\n",
        "print('ADF Test: Sentiment Score time series')\n",
        "adf_test(df_train['Score'])"
      ],
      "metadata": {
        "colab": {
          "base_uri": "https://localhost:8080/"
        },
        "id": "_QLpoZB5Odca",
        "outputId": "6c7c0d03-d26f-4ce5-ab18-c443b0b211ad"
      },
      "execution_count": null,
      "outputs": [
        {
          "output_type": "stream",
          "name": "stdout",
          "text": [
            "the Null Hypothesis (H0): Series data is not stationary\n",
            "the Alternative Hypothesis (H1): Series data is stationary\n",
            "\n",
            "ADF Test: log_price_change time series\n",
            "ADF Statistics: -27.987659\n",
            "p-value: 0.000000\n",
            "Critical values:\n",
            "\t1%: -3.440\n",
            "\t5%: -2.866\n",
            "\t10%: -2.569\n",
            "ADF Test: Sentiment Score time series\n",
            "ADF Statistics: -4.912355\n",
            "p-value: 0.000033\n",
            "Critical values:\n",
            "\t1%: -3.441\n",
            "\t5%: -2.866\n",
            "\t10%: -2.569\n"
          ]
        }
      ]
    },
    {
      "cell_type": "code",
      "source": [
        "df_train['Score_diff'] = df_train['Score'].diff().dropna()"
      ],
      "metadata": {
        "colab": {
          "base_uri": "https://localhost:8080/"
        },
        "id": "tYPBXv1ScG0d",
        "outputId": "fa8d231d-785e-4f32-8f4a-843d05444fe5"
      },
      "execution_count": null,
      "outputs": [
        {
          "output_type": "stream",
          "name": "stderr",
          "text": [
            "<ipython-input-9-60dd2708c085>:1: SettingWithCopyWarning: \n",
            "A value is trying to be set on a copy of a slice from a DataFrame.\n",
            "Try using .loc[row_indexer,col_indexer] = value instead\n",
            "\n",
            "See the caveats in the documentation: https://pandas.pydata.org/pandas-docs/stable/user_guide/indexing.html#returning-a-view-versus-a-copy\n",
            "  df_train['Score_diff'] = df_train['Score'].diff().dropna()\n"
          ]
        }
      ]
    },
    {
      "cell_type": "code",
      "source": [
        "df_train.dropna(inplace=True)"
      ],
      "metadata": {
        "colab": {
          "base_uri": "https://localhost:8080/"
        },
        "id": "MLClpLJGcYs0",
        "outputId": "77461ed1-ac27-4f7d-8e3a-a86a12c13d3c"
      },
      "execution_count": null,
      "outputs": [
        {
          "output_type": "stream",
          "name": "stderr",
          "text": [
            "/usr/local/lib/python3.8/dist-packages/pandas/util/_decorators.py:311: SettingWithCopyWarning: \n",
            "A value is trying to be set on a copy of a slice from a DataFrame\n",
            "\n",
            "See the caveats in the documentation: https://pandas.pydata.org/pandas-docs/stable/user_guide/indexing.html#returning-a-view-versus-a-copy\n",
            "  return func(*args, **kwargs)\n"
          ]
        }
      ]
    },
    {
      "cell_type": "code",
      "source": [
        "df_train"
      ],
      "metadata": {
        "colab": {
          "base_uri": "https://localhost:8080/",
          "height": 424
        },
        "id": "lTdq2Q_ucgav",
        "outputId": "dede886f-33c9-4c25-d29b-5d33722f09d7"
      },
      "execution_count": null,
      "outputs": [
        {
          "output_type": "execute_result",
          "data": {
            "text/plain": [
              "       return  log_price_change     Score  Score_diff\n",
              "1    0.984575         -0.015545 -0.018721   -0.068793\n",
              "2    0.978642         -0.021589  0.030548    0.049269\n",
              "3    0.984355         -0.015768  0.126954    0.096406\n",
              "4    1.010281          0.010228  0.123942   -0.003012\n",
              "5    1.014032          0.013935  0.049399   -0.074543\n",
              "..        ...               ...       ...         ...\n",
              "650  1.015212          0.015098  0.079701    0.046340\n",
              "651  0.996103         -0.003904  0.008363   -0.071338\n",
              "652  1.011527          0.011461  0.018525    0.010162\n",
              "653  1.004240          0.004231  0.086554    0.068029\n",
              "654  1.005177          0.005164  0.023786   -0.062768\n",
              "\n",
              "[654 rows x 4 columns]"
            ],
            "text/html": [
              "\n",
              "  <div id=\"df-7288adff-ba24-475f-b195-fe340ece2f35\">\n",
              "    <div class=\"colab-df-container\">\n",
              "      <div>\n",
              "<style scoped>\n",
              "    .dataframe tbody tr th:only-of-type {\n",
              "        vertical-align: middle;\n",
              "    }\n",
              "\n",
              "    .dataframe tbody tr th {\n",
              "        vertical-align: top;\n",
              "    }\n",
              "\n",
              "    .dataframe thead th {\n",
              "        text-align: right;\n",
              "    }\n",
              "</style>\n",
              "<table border=\"1\" class=\"dataframe\">\n",
              "  <thead>\n",
              "    <tr style=\"text-align: right;\">\n",
              "      <th></th>\n",
              "      <th>return</th>\n",
              "      <th>log_price_change</th>\n",
              "      <th>Score</th>\n",
              "      <th>Score_diff</th>\n",
              "    </tr>\n",
              "  </thead>\n",
              "  <tbody>\n",
              "    <tr>\n",
              "      <th>1</th>\n",
              "      <td>0.984575</td>\n",
              "      <td>-0.015545</td>\n",
              "      <td>-0.018721</td>\n",
              "      <td>-0.068793</td>\n",
              "    </tr>\n",
              "    <tr>\n",
              "      <th>2</th>\n",
              "      <td>0.978642</td>\n",
              "      <td>-0.021589</td>\n",
              "      <td>0.030548</td>\n",
              "      <td>0.049269</td>\n",
              "    </tr>\n",
              "    <tr>\n",
              "      <th>3</th>\n",
              "      <td>0.984355</td>\n",
              "      <td>-0.015768</td>\n",
              "      <td>0.126954</td>\n",
              "      <td>0.096406</td>\n",
              "    </tr>\n",
              "    <tr>\n",
              "      <th>4</th>\n",
              "      <td>1.010281</td>\n",
              "      <td>0.010228</td>\n",
              "      <td>0.123942</td>\n",
              "      <td>-0.003012</td>\n",
              "    </tr>\n",
              "    <tr>\n",
              "      <th>5</th>\n",
              "      <td>1.014032</td>\n",
              "      <td>0.013935</td>\n",
              "      <td>0.049399</td>\n",
              "      <td>-0.074543</td>\n",
              "    </tr>\n",
              "    <tr>\n",
              "      <th>...</th>\n",
              "      <td>...</td>\n",
              "      <td>...</td>\n",
              "      <td>...</td>\n",
              "      <td>...</td>\n",
              "    </tr>\n",
              "    <tr>\n",
              "      <th>650</th>\n",
              "      <td>1.015212</td>\n",
              "      <td>0.015098</td>\n",
              "      <td>0.079701</td>\n",
              "      <td>0.046340</td>\n",
              "    </tr>\n",
              "    <tr>\n",
              "      <th>651</th>\n",
              "      <td>0.996103</td>\n",
              "      <td>-0.003904</td>\n",
              "      <td>0.008363</td>\n",
              "      <td>-0.071338</td>\n",
              "    </tr>\n",
              "    <tr>\n",
              "      <th>652</th>\n",
              "      <td>1.011527</td>\n",
              "      <td>0.011461</td>\n",
              "      <td>0.018525</td>\n",
              "      <td>0.010162</td>\n",
              "    </tr>\n",
              "    <tr>\n",
              "      <th>653</th>\n",
              "      <td>1.004240</td>\n",
              "      <td>0.004231</td>\n",
              "      <td>0.086554</td>\n",
              "      <td>0.068029</td>\n",
              "    </tr>\n",
              "    <tr>\n",
              "      <th>654</th>\n",
              "      <td>1.005177</td>\n",
              "      <td>0.005164</td>\n",
              "      <td>0.023786</td>\n",
              "      <td>-0.062768</td>\n",
              "    </tr>\n",
              "  </tbody>\n",
              "</table>\n",
              "<p>654 rows × 4 columns</p>\n",
              "</div>\n",
              "      <button class=\"colab-df-convert\" onclick=\"convertToInteractive('df-7288adff-ba24-475f-b195-fe340ece2f35')\"\n",
              "              title=\"Convert this dataframe to an interactive table.\"\n",
              "              style=\"display:none;\">\n",
              "        \n",
              "  <svg xmlns=\"http://www.w3.org/2000/svg\" height=\"24px\"viewBox=\"0 0 24 24\"\n",
              "       width=\"24px\">\n",
              "    <path d=\"M0 0h24v24H0V0z\" fill=\"none\"/>\n",
              "    <path d=\"M18.56 5.44l.94 2.06.94-2.06 2.06-.94-2.06-.94-.94-2.06-.94 2.06-2.06.94zm-11 1L8.5 8.5l.94-2.06 2.06-.94-2.06-.94L8.5 2.5l-.94 2.06-2.06.94zm10 10l.94 2.06.94-2.06 2.06-.94-2.06-.94-.94-2.06-.94 2.06-2.06.94z\"/><path d=\"M17.41 7.96l-1.37-1.37c-.4-.4-.92-.59-1.43-.59-.52 0-1.04.2-1.43.59L10.3 9.45l-7.72 7.72c-.78.78-.78 2.05 0 2.83L4 21.41c.39.39.9.59 1.41.59.51 0 1.02-.2 1.41-.59l7.78-7.78 2.81-2.81c.8-.78.8-2.07 0-2.86zM5.41 20L4 18.59l7.72-7.72 1.47 1.35L5.41 20z\"/>\n",
              "  </svg>\n",
              "      </button>\n",
              "      \n",
              "  <style>\n",
              "    .colab-df-container {\n",
              "      display:flex;\n",
              "      flex-wrap:wrap;\n",
              "      gap: 12px;\n",
              "    }\n",
              "\n",
              "    .colab-df-convert {\n",
              "      background-color: #E8F0FE;\n",
              "      border: none;\n",
              "      border-radius: 50%;\n",
              "      cursor: pointer;\n",
              "      display: none;\n",
              "      fill: #1967D2;\n",
              "      height: 32px;\n",
              "      padding: 0 0 0 0;\n",
              "      width: 32px;\n",
              "    }\n",
              "\n",
              "    .colab-df-convert:hover {\n",
              "      background-color: #E2EBFA;\n",
              "      box-shadow: 0px 1px 2px rgba(60, 64, 67, 0.3), 0px 1px 3px 1px rgba(60, 64, 67, 0.15);\n",
              "      fill: #174EA6;\n",
              "    }\n",
              "\n",
              "    [theme=dark] .colab-df-convert {\n",
              "      background-color: #3B4455;\n",
              "      fill: #D2E3FC;\n",
              "    }\n",
              "\n",
              "    [theme=dark] .colab-df-convert:hover {\n",
              "      background-color: #434B5C;\n",
              "      box-shadow: 0px 1px 3px 1px rgba(0, 0, 0, 0.15);\n",
              "      filter: drop-shadow(0px 1px 2px rgba(0, 0, 0, 0.3));\n",
              "      fill: #FFFFFF;\n",
              "    }\n",
              "  </style>\n",
              "\n",
              "      <script>\n",
              "        const buttonEl =\n",
              "          document.querySelector('#df-7288adff-ba24-475f-b195-fe340ece2f35 button.colab-df-convert');\n",
              "        buttonEl.style.display =\n",
              "          google.colab.kernel.accessAllowed ? 'block' : 'none';\n",
              "\n",
              "        async function convertToInteractive(key) {\n",
              "          const element = document.querySelector('#df-7288adff-ba24-475f-b195-fe340ece2f35');\n",
              "          const dataTable =\n",
              "            await google.colab.kernel.invokeFunction('convertToInteractive',\n",
              "                                                     [key], {});\n",
              "          if (!dataTable) return;\n",
              "\n",
              "          const docLinkHtml = 'Like what you see? Visit the ' +\n",
              "            '<a target=\"_blank\" href=https://colab.research.google.com/notebooks/data_table.ipynb>data table notebook</a>'\n",
              "            + ' to learn more about interactive tables.';\n",
              "          element.innerHTML = '';\n",
              "          dataTable['output_type'] = 'display_data';\n",
              "          await google.colab.output.renderOutput(dataTable, element);\n",
              "          const docLink = document.createElement('div');\n",
              "          docLink.innerHTML = docLinkHtml;\n",
              "          element.appendChild(docLink);\n",
              "        }\n",
              "      </script>\n",
              "    </div>\n",
              "  </div>\n",
              "  "
            ]
          },
          "metadata": {},
          "execution_count": 11
        }
      ]
    },
    {
      "cell_type": "code",
      "source": [
        "from statsmodels.tsa.stattools import grangercausalitytests\n",
        "\n",
        "maxlag=20\n",
        "test = 'ssr_chi2test'\n",
        "\n",
        "def grangers_causation_matrix(data, variables, test='ssr_chi2test', verbose=False):    \n",
        "   \n",
        "    df = pd.DataFrame(np.zeros((len(variables), len(variables))), columns=variables, index=variables)\n",
        "    for c in df.columns:\n",
        "        for r in df.index:\n",
        "            test_result = grangercausalitytests(data[[r, c]], maxlag=maxlag, verbose=False)\n",
        "            p_values = [round(test_result[i+1][0][test][1],4) for i in range(maxlag)]\n",
        "            if verbose: print(f'Y = {r}, X = {c}, P Values = {p_values}')\n",
        "            min_p_value = np.min(p_values)\n",
        "            df.loc[r, c] = min_p_value\n",
        "    df.columns = [var + '_x' for var in variables]\n",
        "    df.index = [var + '_y' for var in variables]\n",
        "    return df\n",
        "\n",
        "grangers_causation_matrix(df_train, variables = df_train.columns)"
      ],
      "metadata": {
        "colab": {
          "base_uri": "https://localhost:8080/",
          "height": 175
        },
        "id": "rEb_bZ8TOdZX",
        "outputId": "fb0f26c7-02fd-4c5e-9410-66707bd94a23"
      },
      "execution_count": null,
      "outputs": [
        {
          "output_type": "execute_result",
          "data": {
            "text/plain": [
              "                    return_x  log_price_change_x  Score_x  Score_diff_x\n",
              "return_y              1.0000              0.0000   0.0743        0.0682\n",
              "log_price_change_y    0.0000              1.0000   0.0750        0.0661\n",
              "Score_y               0.1948              0.2050   1.0000        0.0170\n",
              "Score_diff_y          0.3202              0.3078   0.0000        1.0000"
            ],
            "text/html": [
              "\n",
              "  <div id=\"df-ce816f14-44e3-4e20-a5ea-9155b15c95bd\">\n",
              "    <div class=\"colab-df-container\">\n",
              "      <div>\n",
              "<style scoped>\n",
              "    .dataframe tbody tr th:only-of-type {\n",
              "        vertical-align: middle;\n",
              "    }\n",
              "\n",
              "    .dataframe tbody tr th {\n",
              "        vertical-align: top;\n",
              "    }\n",
              "\n",
              "    .dataframe thead th {\n",
              "        text-align: right;\n",
              "    }\n",
              "</style>\n",
              "<table border=\"1\" class=\"dataframe\">\n",
              "  <thead>\n",
              "    <tr style=\"text-align: right;\">\n",
              "      <th></th>\n",
              "      <th>return_x</th>\n",
              "      <th>log_price_change_x</th>\n",
              "      <th>Score_x</th>\n",
              "      <th>Score_diff_x</th>\n",
              "    </tr>\n",
              "  </thead>\n",
              "  <tbody>\n",
              "    <tr>\n",
              "      <th>return_y</th>\n",
              "      <td>1.0000</td>\n",
              "      <td>0.0000</td>\n",
              "      <td>0.0743</td>\n",
              "      <td>0.0682</td>\n",
              "    </tr>\n",
              "    <tr>\n",
              "      <th>log_price_change_y</th>\n",
              "      <td>0.0000</td>\n",
              "      <td>1.0000</td>\n",
              "      <td>0.0750</td>\n",
              "      <td>0.0661</td>\n",
              "    </tr>\n",
              "    <tr>\n",
              "      <th>Score_y</th>\n",
              "      <td>0.1948</td>\n",
              "      <td>0.2050</td>\n",
              "      <td>1.0000</td>\n",
              "      <td>0.0170</td>\n",
              "    </tr>\n",
              "    <tr>\n",
              "      <th>Score_diff_y</th>\n",
              "      <td>0.3202</td>\n",
              "      <td>0.3078</td>\n",
              "      <td>0.0000</td>\n",
              "      <td>1.0000</td>\n",
              "    </tr>\n",
              "  </tbody>\n",
              "</table>\n",
              "</div>\n",
              "      <button class=\"colab-df-convert\" onclick=\"convertToInteractive('df-ce816f14-44e3-4e20-a5ea-9155b15c95bd')\"\n",
              "              title=\"Convert this dataframe to an interactive table.\"\n",
              "              style=\"display:none;\">\n",
              "        \n",
              "  <svg xmlns=\"http://www.w3.org/2000/svg\" height=\"24px\"viewBox=\"0 0 24 24\"\n",
              "       width=\"24px\">\n",
              "    <path d=\"M0 0h24v24H0V0z\" fill=\"none\"/>\n",
              "    <path d=\"M18.56 5.44l.94 2.06.94-2.06 2.06-.94-2.06-.94-.94-2.06-.94 2.06-2.06.94zm-11 1L8.5 8.5l.94-2.06 2.06-.94-2.06-.94L8.5 2.5l-.94 2.06-2.06.94zm10 10l.94 2.06.94-2.06 2.06-.94-2.06-.94-.94-2.06-.94 2.06-2.06.94z\"/><path d=\"M17.41 7.96l-1.37-1.37c-.4-.4-.92-.59-1.43-.59-.52 0-1.04.2-1.43.59L10.3 9.45l-7.72 7.72c-.78.78-.78 2.05 0 2.83L4 21.41c.39.39.9.59 1.41.59.51 0 1.02-.2 1.41-.59l7.78-7.78 2.81-2.81c.8-.78.8-2.07 0-2.86zM5.41 20L4 18.59l7.72-7.72 1.47 1.35L5.41 20z\"/>\n",
              "  </svg>\n",
              "      </button>\n",
              "      \n",
              "  <style>\n",
              "    .colab-df-container {\n",
              "      display:flex;\n",
              "      flex-wrap:wrap;\n",
              "      gap: 12px;\n",
              "    }\n",
              "\n",
              "    .colab-df-convert {\n",
              "      background-color: #E8F0FE;\n",
              "      border: none;\n",
              "      border-radius: 50%;\n",
              "      cursor: pointer;\n",
              "      display: none;\n",
              "      fill: #1967D2;\n",
              "      height: 32px;\n",
              "      padding: 0 0 0 0;\n",
              "      width: 32px;\n",
              "    }\n",
              "\n",
              "    .colab-df-convert:hover {\n",
              "      background-color: #E2EBFA;\n",
              "      box-shadow: 0px 1px 2px rgba(60, 64, 67, 0.3), 0px 1px 3px 1px rgba(60, 64, 67, 0.15);\n",
              "      fill: #174EA6;\n",
              "    }\n",
              "\n",
              "    [theme=dark] .colab-df-convert {\n",
              "      background-color: #3B4455;\n",
              "      fill: #D2E3FC;\n",
              "    }\n",
              "\n",
              "    [theme=dark] .colab-df-convert:hover {\n",
              "      background-color: #434B5C;\n",
              "      box-shadow: 0px 1px 3px 1px rgba(0, 0, 0, 0.15);\n",
              "      filter: drop-shadow(0px 1px 2px rgba(0, 0, 0, 0.3));\n",
              "      fill: #FFFFFF;\n",
              "    }\n",
              "  </style>\n",
              "\n",
              "      <script>\n",
              "        const buttonEl =\n",
              "          document.querySelector('#df-ce816f14-44e3-4e20-a5ea-9155b15c95bd button.colab-df-convert');\n",
              "        buttonEl.style.display =\n",
              "          google.colab.kernel.accessAllowed ? 'block' : 'none';\n",
              "\n",
              "        async function convertToInteractive(key) {\n",
              "          const element = document.querySelector('#df-ce816f14-44e3-4e20-a5ea-9155b15c95bd');\n",
              "          const dataTable =\n",
              "            await google.colab.kernel.invokeFunction('convertToInteractive',\n",
              "                                                     [key], {});\n",
              "          if (!dataTable) return;\n",
              "\n",
              "          const docLinkHtml = 'Like what you see? Visit the ' +\n",
              "            '<a target=\"_blank\" href=https://colab.research.google.com/notebooks/data_table.ipynb>data table notebook</a>'\n",
              "            + ' to learn more about interactive tables.';\n",
              "          element.innerHTML = '';\n",
              "          dataTable['output_type'] = 'display_data';\n",
              "          await google.colab.output.renderOutput(dataTable, element);\n",
              "          const docLink = document.createElement('div');\n",
              "          docLink.innerHTML = docLinkHtml;\n",
              "          element.appendChild(docLink);\n",
              "        }\n",
              "      </script>\n",
              "    </div>\n",
              "  </div>\n",
              "  "
            ]
          },
          "metadata": {},
          "execution_count": 12
        }
      ]
    },
    {
      "cell_type": "code",
      "source": [
        "!pip install yfinance"
      ],
      "metadata": {
        "id": "8-4EDYnSOdUh",
        "colab": {
          "base_uri": "https://localhost:8080/",
          "height": 542
        },
        "outputId": "2f5c5a9c-3ac1-4cd1-aa32-56f90d9d55d1"
      },
      "execution_count": null,
      "outputs": [
        {
          "output_type": "stream",
          "name": "stdout",
          "text": [
            "Looking in indexes: https://pypi.org/simple, https://us-python.pkg.dev/colab-wheels/public/simple/\n",
            "Collecting yfinance\n",
            "  Downloading yfinance-0.1.90-py2.py3-none-any.whl (29 kB)\n",
            "Requirement already satisfied: appdirs>=1.4.4 in /usr/local/lib/python3.8/dist-packages (from yfinance) (1.4.4)\n",
            "Requirement already satisfied: multitasking>=0.0.7 in /usr/local/lib/python3.8/dist-packages (from yfinance) (0.0.11)\n",
            "Requirement already satisfied: pandas>=1.3.0 in /usr/local/lib/python3.8/dist-packages (from yfinance) (1.3.5)\n",
            "Collecting requests>=2.26\n",
            "  Downloading requests-2.28.1-py3-none-any.whl (62 kB)\n",
            "\u001b[K     |████████████████████████████████| 62 kB 1.2 MB/s \n",
            "\u001b[?25hRequirement already satisfied: lxml>=4.9.1 in /usr/local/lib/python3.8/dist-packages (from yfinance) (4.9.2)\n",
            "Requirement already satisfied: numpy>=1.16.5 in /usr/local/lib/python3.8/dist-packages (from yfinance) (1.21.6)\n",
            "Requirement already satisfied: python-dateutil>=2.7.3 in /usr/local/lib/python3.8/dist-packages (from pandas>=1.3.0->yfinance) (2.8.2)\n",
            "Requirement already satisfied: pytz>=2017.3 in /usr/local/lib/python3.8/dist-packages (from pandas>=1.3.0->yfinance) (2022.6)\n",
            "Requirement already satisfied: six>=1.5 in /usr/local/lib/python3.8/dist-packages (from python-dateutil>=2.7.3->pandas>=1.3.0->yfinance) (1.15.0)\n",
            "Requirement already satisfied: charset-normalizer<3,>=2 in /usr/local/lib/python3.8/dist-packages (from requests>=2.26->yfinance) (2.1.1)\n",
            "Requirement already satisfied: idna<4,>=2.5 in /usr/local/lib/python3.8/dist-packages (from requests>=2.26->yfinance) (2.10)\n",
            "Requirement already satisfied: certifi>=2017.4.17 in /usr/local/lib/python3.8/dist-packages (from requests>=2.26->yfinance) (2022.12.7)\n",
            "Requirement already satisfied: urllib3<1.27,>=1.21.1 in /usr/local/lib/python3.8/dist-packages (from requests>=2.26->yfinance) (1.24.3)\n",
            "Installing collected packages: requests, yfinance\n",
            "  Attempting uninstall: requests\n",
            "    Found existing installation: requests 2.23.0\n",
            "    Uninstalling requests-2.23.0:\n",
            "      Successfully uninstalled requests-2.23.0\n",
            "Successfully installed requests-2.28.1 yfinance-0.1.90\n"
          ]
        },
        {
          "output_type": "display_data",
          "data": {
            "application/vnd.colab-display-data+json": {
              "pip_warning": {
                "packages": [
                  "requests"
                ]
              }
            }
          },
          "metadata": {}
        }
      ]
    },
    {
      "cell_type": "code",
      "source": [
        "import yfinance as yf"
      ],
      "metadata": {
        "id": "GiHtQR16OdSd"
      },
      "execution_count": null,
      "outputs": []
    },
    {
      "cell_type": "code",
      "source": [
        "vix = yf.download(tickers='^VIX', start=\"2010-01-04\", end=\"2022-10-02\", interval='1wk')\n",
        "aapl_week = yf.download(tickers='AAPL', start=\"2010-01-04\", end=\"2022-10-02\", interval='1wk')"
      ],
      "metadata": {
        "id": "wNyAn3YsOdQd",
        "colab": {
          "base_uri": "https://localhost:8080/"
        },
        "outputId": "86ad3750-9f99-46ab-858a-24a1dac7fdd3"
      },
      "execution_count": null,
      "outputs": [
        {
          "output_type": "stream",
          "name": "stdout",
          "text": [
            "[*********************100%***********************]  1 of 1 completed\n",
            "[*********************100%***********************]  1 of 1 completed\n"
          ]
        }
      ]
    },
    {
      "cell_type": "code",
      "source": [
        "aapl_week"
      ],
      "metadata": {
        "id": "4TJ_eRerOdOs",
        "colab": {
          "base_uri": "https://localhost:8080/",
          "height": 455
        },
        "outputId": "84275435-8ba4-4049-bdde-c6c087002218"
      },
      "execution_count": null,
      "outputs": [
        {
          "output_type": "execute_result",
          "data": {
            "text/plain": [
              "                  Open        High         Low       Close   Adj Close  \\\n",
              "Date                                                                     \n",
              "2010-01-04    7.622500    7.699643    7.466071    7.570714    6.453412   \n",
              "2010-01-11    7.600000    7.607143    7.289286    7.354643    6.269229   \n",
              "2010-01-18    7.440357    7.698214    7.041429    7.062500    6.020201   \n",
              "2010-01-25    7.232500    7.632500    6.794643    6.859286    5.846979   \n",
              "2010-02-01    6.870357    7.150000    6.816071    6.980714    5.950485   \n",
              "...                ...         ...         ...         ...         ...   \n",
              "2022-08-29  161.149994  162.899994  154.669998  155.809998  155.551956   \n",
              "2022-09-05  156.470001  157.820007  152.679993  157.369995  157.109375   \n",
              "2022-09-12  159.589996  164.259995  148.369995  150.699997  150.450424   \n",
              "2022-09-19  149.309998  158.740005  148.559998  150.429993  150.180862   \n",
              "2022-09-26  149.660004  154.720001  138.000000  138.199997  137.971115   \n",
              "\n",
              "                  Volume  \n",
              "Date                      \n",
              "2010-01-04  2.572536e+09  \n",
              "2010-01-11  2.689543e+09  \n",
              "2010-01-18  2.832082e+09  \n",
              "2010-01-25  7.074833e+09  \n",
              "2010-02-01  3.671506e+09  \n",
              "...                  ...  \n",
              "2022-08-29  3.903990e+08  \n",
              "2022-09-05  3.141170e+08  \n",
              "2022-09-12  5.683379e+08  \n",
              "2022-09-19  4.735432e+08  \n",
              "2022-09-26  5.775370e+08  \n",
              "\n",
              "[665 rows x 6 columns]"
            ],
            "text/html": [
              "\n",
              "  <div id=\"df-a56d668e-eeda-4ee1-82e4-ea84bded0aee\">\n",
              "    <div class=\"colab-df-container\">\n",
              "      <div>\n",
              "<style scoped>\n",
              "    .dataframe tbody tr th:only-of-type {\n",
              "        vertical-align: middle;\n",
              "    }\n",
              "\n",
              "    .dataframe tbody tr th {\n",
              "        vertical-align: top;\n",
              "    }\n",
              "\n",
              "    .dataframe thead th {\n",
              "        text-align: right;\n",
              "    }\n",
              "</style>\n",
              "<table border=\"1\" class=\"dataframe\">\n",
              "  <thead>\n",
              "    <tr style=\"text-align: right;\">\n",
              "      <th></th>\n",
              "      <th>Open</th>\n",
              "      <th>High</th>\n",
              "      <th>Low</th>\n",
              "      <th>Close</th>\n",
              "      <th>Adj Close</th>\n",
              "      <th>Volume</th>\n",
              "    </tr>\n",
              "    <tr>\n",
              "      <th>Date</th>\n",
              "      <th></th>\n",
              "      <th></th>\n",
              "      <th></th>\n",
              "      <th></th>\n",
              "      <th></th>\n",
              "      <th></th>\n",
              "    </tr>\n",
              "  </thead>\n",
              "  <tbody>\n",
              "    <tr>\n",
              "      <th>2010-01-04</th>\n",
              "      <td>7.622500</td>\n",
              "      <td>7.699643</td>\n",
              "      <td>7.466071</td>\n",
              "      <td>7.570714</td>\n",
              "      <td>6.453412</td>\n",
              "      <td>2.572536e+09</td>\n",
              "    </tr>\n",
              "    <tr>\n",
              "      <th>2010-01-11</th>\n",
              "      <td>7.600000</td>\n",
              "      <td>7.607143</td>\n",
              "      <td>7.289286</td>\n",
              "      <td>7.354643</td>\n",
              "      <td>6.269229</td>\n",
              "      <td>2.689543e+09</td>\n",
              "    </tr>\n",
              "    <tr>\n",
              "      <th>2010-01-18</th>\n",
              "      <td>7.440357</td>\n",
              "      <td>7.698214</td>\n",
              "      <td>7.041429</td>\n",
              "      <td>7.062500</td>\n",
              "      <td>6.020201</td>\n",
              "      <td>2.832082e+09</td>\n",
              "    </tr>\n",
              "    <tr>\n",
              "      <th>2010-01-25</th>\n",
              "      <td>7.232500</td>\n",
              "      <td>7.632500</td>\n",
              "      <td>6.794643</td>\n",
              "      <td>6.859286</td>\n",
              "      <td>5.846979</td>\n",
              "      <td>7.074833e+09</td>\n",
              "    </tr>\n",
              "    <tr>\n",
              "      <th>2010-02-01</th>\n",
              "      <td>6.870357</td>\n",
              "      <td>7.150000</td>\n",
              "      <td>6.816071</td>\n",
              "      <td>6.980714</td>\n",
              "      <td>5.950485</td>\n",
              "      <td>3.671506e+09</td>\n",
              "    </tr>\n",
              "    <tr>\n",
              "      <th>...</th>\n",
              "      <td>...</td>\n",
              "      <td>...</td>\n",
              "      <td>...</td>\n",
              "      <td>...</td>\n",
              "      <td>...</td>\n",
              "      <td>...</td>\n",
              "    </tr>\n",
              "    <tr>\n",
              "      <th>2022-08-29</th>\n",
              "      <td>161.149994</td>\n",
              "      <td>162.899994</td>\n",
              "      <td>154.669998</td>\n",
              "      <td>155.809998</td>\n",
              "      <td>155.551956</td>\n",
              "      <td>3.903990e+08</td>\n",
              "    </tr>\n",
              "    <tr>\n",
              "      <th>2022-09-05</th>\n",
              "      <td>156.470001</td>\n",
              "      <td>157.820007</td>\n",
              "      <td>152.679993</td>\n",
              "      <td>157.369995</td>\n",
              "      <td>157.109375</td>\n",
              "      <td>3.141170e+08</td>\n",
              "    </tr>\n",
              "    <tr>\n",
              "      <th>2022-09-12</th>\n",
              "      <td>159.589996</td>\n",
              "      <td>164.259995</td>\n",
              "      <td>148.369995</td>\n",
              "      <td>150.699997</td>\n",
              "      <td>150.450424</td>\n",
              "      <td>5.683379e+08</td>\n",
              "    </tr>\n",
              "    <tr>\n",
              "      <th>2022-09-19</th>\n",
              "      <td>149.309998</td>\n",
              "      <td>158.740005</td>\n",
              "      <td>148.559998</td>\n",
              "      <td>150.429993</td>\n",
              "      <td>150.180862</td>\n",
              "      <td>4.735432e+08</td>\n",
              "    </tr>\n",
              "    <tr>\n",
              "      <th>2022-09-26</th>\n",
              "      <td>149.660004</td>\n",
              "      <td>154.720001</td>\n",
              "      <td>138.000000</td>\n",
              "      <td>138.199997</td>\n",
              "      <td>137.971115</td>\n",
              "      <td>5.775370e+08</td>\n",
              "    </tr>\n",
              "  </tbody>\n",
              "</table>\n",
              "<p>665 rows × 6 columns</p>\n",
              "</div>\n",
              "      <button class=\"colab-df-convert\" onclick=\"convertToInteractive('df-a56d668e-eeda-4ee1-82e4-ea84bded0aee')\"\n",
              "              title=\"Convert this dataframe to an interactive table.\"\n",
              "              style=\"display:none;\">\n",
              "        \n",
              "  <svg xmlns=\"http://www.w3.org/2000/svg\" height=\"24px\"viewBox=\"0 0 24 24\"\n",
              "       width=\"24px\">\n",
              "    <path d=\"M0 0h24v24H0V0z\" fill=\"none\"/>\n",
              "    <path d=\"M18.56 5.44l.94 2.06.94-2.06 2.06-.94-2.06-.94-.94-2.06-.94 2.06-2.06.94zm-11 1L8.5 8.5l.94-2.06 2.06-.94-2.06-.94L8.5 2.5l-.94 2.06-2.06.94zm10 10l.94 2.06.94-2.06 2.06-.94-2.06-.94-.94-2.06-.94 2.06-2.06.94z\"/><path d=\"M17.41 7.96l-1.37-1.37c-.4-.4-.92-.59-1.43-.59-.52 0-1.04.2-1.43.59L10.3 9.45l-7.72 7.72c-.78.78-.78 2.05 0 2.83L4 21.41c.39.39.9.59 1.41.59.51 0 1.02-.2 1.41-.59l7.78-7.78 2.81-2.81c.8-.78.8-2.07 0-2.86zM5.41 20L4 18.59l7.72-7.72 1.47 1.35L5.41 20z\"/>\n",
              "  </svg>\n",
              "      </button>\n",
              "      \n",
              "  <style>\n",
              "    .colab-df-container {\n",
              "      display:flex;\n",
              "      flex-wrap:wrap;\n",
              "      gap: 12px;\n",
              "    }\n",
              "\n",
              "    .colab-df-convert {\n",
              "      background-color: #E8F0FE;\n",
              "      border: none;\n",
              "      border-radius: 50%;\n",
              "      cursor: pointer;\n",
              "      display: none;\n",
              "      fill: #1967D2;\n",
              "      height: 32px;\n",
              "      padding: 0 0 0 0;\n",
              "      width: 32px;\n",
              "    }\n",
              "\n",
              "    .colab-df-convert:hover {\n",
              "      background-color: #E2EBFA;\n",
              "      box-shadow: 0px 1px 2px rgba(60, 64, 67, 0.3), 0px 1px 3px 1px rgba(60, 64, 67, 0.15);\n",
              "      fill: #174EA6;\n",
              "    }\n",
              "\n",
              "    [theme=dark] .colab-df-convert {\n",
              "      background-color: #3B4455;\n",
              "      fill: #D2E3FC;\n",
              "    }\n",
              "\n",
              "    [theme=dark] .colab-df-convert:hover {\n",
              "      background-color: #434B5C;\n",
              "      box-shadow: 0px 1px 3px 1px rgba(0, 0, 0, 0.15);\n",
              "      filter: drop-shadow(0px 1px 2px rgba(0, 0, 0, 0.3));\n",
              "      fill: #FFFFFF;\n",
              "    }\n",
              "  </style>\n",
              "\n",
              "      <script>\n",
              "        const buttonEl =\n",
              "          document.querySelector('#df-a56d668e-eeda-4ee1-82e4-ea84bded0aee button.colab-df-convert');\n",
              "        buttonEl.style.display =\n",
              "          google.colab.kernel.accessAllowed ? 'block' : 'none';\n",
              "\n",
              "        async function convertToInteractive(key) {\n",
              "          const element = document.querySelector('#df-a56d668e-eeda-4ee1-82e4-ea84bded0aee');\n",
              "          const dataTable =\n",
              "            await google.colab.kernel.invokeFunction('convertToInteractive',\n",
              "                                                     [key], {});\n",
              "          if (!dataTable) return;\n",
              "\n",
              "          const docLinkHtml = 'Like what you see? Visit the ' +\n",
              "            '<a target=\"_blank\" href=https://colab.research.google.com/notebooks/data_table.ipynb>data table notebook</a>'\n",
              "            + ' to learn more about interactive tables.';\n",
              "          element.innerHTML = '';\n",
              "          dataTable['output_type'] = 'display_data';\n",
              "          await google.colab.output.renderOutput(dataTable, element);\n",
              "          const docLink = document.createElement('div');\n",
              "          docLink.innerHTML = docLinkHtml;\n",
              "          element.appendChild(docLink);\n",
              "        }\n",
              "      </script>\n",
              "    </div>\n",
              "  </div>\n",
              "  "
            ]
          },
          "metadata": {},
          "execution_count": 16
        }
      ]
    },
    {
      "cell_type": "code",
      "source": [
        "df['VIX'] = (vix['Adj Close']).tolist()"
      ],
      "metadata": {
        "id": "AzoMz4YzOdMH"
      },
      "execution_count": null,
      "outputs": []
    },
    {
      "cell_type": "code",
      "source": [
        "df['Adj Close'] = aapl_week['Adj Close'].tolist()\n",
        "df['Volume'] = aapl_week['Volume'].tolist()"
      ],
      "metadata": {
        "id": "fapIEr8HOdJ9"
      },
      "execution_count": null,
      "outputs": []
    },
    {
      "cell_type": "code",
      "source": [
        "df"
      ],
      "metadata": {
        "id": "sJ_0dRv4OdHw",
        "colab": {
          "base_uri": "https://localhost:8080/",
          "height": 424
        },
        "outputId": "7c984ae9-1326-4476-ce51-3bda2c69bcfe"
      },
      "execution_count": null,
      "outputs": [
        {
          "output_type": "execute_result",
          "data": {
            "text/plain": [
              "     Unnamed: 0                   Week        Open        High         Low  \\\n",
              "0             0  2010-01-04/2010-01-10   30.393929   30.529287   30.075357   \n",
              "1             1  2010-01-11/2010-01-17   37.532143   37.705715   36.923572   \n",
              "2             2  2010-01-18/2010-01-24   30.075000   30.412499   29.325358   \n",
              "3             3  2010-01-25/2010-01-31   36.475715   37.024642   35.401786   \n",
              "4             4  2010-02-01/2010-02-07   34.743214   35.246072   34.340000   \n",
              "..          ...                    ...         ...         ...         ...   \n",
              "660         660  2022-08-29/2022-09-04  799.979996  804.819992  784.320007   \n",
              "661         661  2022-09-05/2022-09-11  621.400009  627.940002  614.729996   \n",
              "662         662  2022-09-12/2022-09-18  780.139984  788.490005  766.029999   \n",
              "663         663  2022-09-19/2022-09-25  763.619995  777.320007  755.250015   \n",
              "664         664  2022-09-26/2022-10-02  737.420013  748.950012  723.109985   \n",
              "\n",
              "          Close   Adj Close        Volume  log_Price  log_price_change  \\\n",
              "0     30.282500    6.453412  2.572536e+09   7.458292         -0.005054   \n",
              "1     37.280000    6.269229  2.689543e+09   9.246531         -0.015545   \n",
              "2     29.735357    6.020201  2.832082e+09   7.383482         -0.021589   \n",
              "3     36.008572    5.846979  7.074833e+09   9.071252         -0.015768   \n",
              "4     34.904643    5.950485  3.671506e+09   8.917170          0.010228   \n",
              "..          ...         ...           ...        ...               ...   \n",
              "660  791.280014  155.551956  3.903990e+08  25.312438         -0.009630   \n",
              "661  622.320007  157.109375  3.141170e+08  20.181893          0.001984   \n",
              "662  775.649979  150.450424  5.683379e+08  25.211036         -0.008491   \n",
              "663  768.269989  150.180862  4.735432e+08  25.164753         -0.000327   \n",
              "664  733.049988  137.971115  5.775370e+08  24.927240         -0.016990   \n",
              "\n",
              "     Number_of_Jumps     Score    return       vol        VIX  \n",
              "0                  1  0.050072  0.994959  0.005054  18.129999  \n",
              "1                  3 -0.018721  0.984575  0.015545  17.910000  \n",
              "2                  4  0.030548  0.978642  0.021589  27.309999  \n",
              "3                  4  0.126954  0.984355  0.015768  24.620001  \n",
              "4                  4  0.123942  1.010281  0.010228  26.110001  \n",
              "..               ...       ...       ...       ...        ...  \n",
              "660                0  0.012074  0.990417  0.009630  25.469999  \n",
              "661                0  0.036968  1.001986  0.001984  22.790001  \n",
              "662                2  0.066218  0.991545  0.008491  26.299999  \n",
              "663                0  0.102698  0.999673  0.000327  29.920000  \n",
              "664                2 -0.023962  0.983154  0.016990  31.620001  \n",
              "\n",
              "[665 rows x 15 columns]"
            ],
            "text/html": [
              "\n",
              "  <div id=\"df-05d7f979-bb08-4459-98fe-1cfa4661f51b\">\n",
              "    <div class=\"colab-df-container\">\n",
              "      <div>\n",
              "<style scoped>\n",
              "    .dataframe tbody tr th:only-of-type {\n",
              "        vertical-align: middle;\n",
              "    }\n",
              "\n",
              "    .dataframe tbody tr th {\n",
              "        vertical-align: top;\n",
              "    }\n",
              "\n",
              "    .dataframe thead th {\n",
              "        text-align: right;\n",
              "    }\n",
              "</style>\n",
              "<table border=\"1\" class=\"dataframe\">\n",
              "  <thead>\n",
              "    <tr style=\"text-align: right;\">\n",
              "      <th></th>\n",
              "      <th>Unnamed: 0</th>\n",
              "      <th>Week</th>\n",
              "      <th>Open</th>\n",
              "      <th>High</th>\n",
              "      <th>Low</th>\n",
              "      <th>Close</th>\n",
              "      <th>Adj Close</th>\n",
              "      <th>Volume</th>\n",
              "      <th>log_Price</th>\n",
              "      <th>log_price_change</th>\n",
              "      <th>Number_of_Jumps</th>\n",
              "      <th>Score</th>\n",
              "      <th>return</th>\n",
              "      <th>vol</th>\n",
              "      <th>VIX</th>\n",
              "    </tr>\n",
              "  </thead>\n",
              "  <tbody>\n",
              "    <tr>\n",
              "      <th>0</th>\n",
              "      <td>0</td>\n",
              "      <td>2010-01-04/2010-01-10</td>\n",
              "      <td>30.393929</td>\n",
              "      <td>30.529287</td>\n",
              "      <td>30.075357</td>\n",
              "      <td>30.282500</td>\n",
              "      <td>6.453412</td>\n",
              "      <td>2.572536e+09</td>\n",
              "      <td>7.458292</td>\n",
              "      <td>-0.005054</td>\n",
              "      <td>1</td>\n",
              "      <td>0.050072</td>\n",
              "      <td>0.994959</td>\n",
              "      <td>0.005054</td>\n",
              "      <td>18.129999</td>\n",
              "    </tr>\n",
              "    <tr>\n",
              "      <th>1</th>\n",
              "      <td>1</td>\n",
              "      <td>2010-01-11/2010-01-17</td>\n",
              "      <td>37.532143</td>\n",
              "      <td>37.705715</td>\n",
              "      <td>36.923572</td>\n",
              "      <td>37.280000</td>\n",
              "      <td>6.269229</td>\n",
              "      <td>2.689543e+09</td>\n",
              "      <td>9.246531</td>\n",
              "      <td>-0.015545</td>\n",
              "      <td>3</td>\n",
              "      <td>-0.018721</td>\n",
              "      <td>0.984575</td>\n",
              "      <td>0.015545</td>\n",
              "      <td>17.910000</td>\n",
              "    </tr>\n",
              "    <tr>\n",
              "      <th>2</th>\n",
              "      <td>2</td>\n",
              "      <td>2010-01-18/2010-01-24</td>\n",
              "      <td>30.075000</td>\n",
              "      <td>30.412499</td>\n",
              "      <td>29.325358</td>\n",
              "      <td>29.735357</td>\n",
              "      <td>6.020201</td>\n",
              "      <td>2.832082e+09</td>\n",
              "      <td>7.383482</td>\n",
              "      <td>-0.021589</td>\n",
              "      <td>4</td>\n",
              "      <td>0.030548</td>\n",
              "      <td>0.978642</td>\n",
              "      <td>0.021589</td>\n",
              "      <td>27.309999</td>\n",
              "    </tr>\n",
              "    <tr>\n",
              "      <th>3</th>\n",
              "      <td>3</td>\n",
              "      <td>2010-01-25/2010-01-31</td>\n",
              "      <td>36.475715</td>\n",
              "      <td>37.024642</td>\n",
              "      <td>35.401786</td>\n",
              "      <td>36.008572</td>\n",
              "      <td>5.846979</td>\n",
              "      <td>7.074833e+09</td>\n",
              "      <td>9.071252</td>\n",
              "      <td>-0.015768</td>\n",
              "      <td>4</td>\n",
              "      <td>0.126954</td>\n",
              "      <td>0.984355</td>\n",
              "      <td>0.015768</td>\n",
              "      <td>24.620001</td>\n",
              "    </tr>\n",
              "    <tr>\n",
              "      <th>4</th>\n",
              "      <td>4</td>\n",
              "      <td>2010-02-01/2010-02-07</td>\n",
              "      <td>34.743214</td>\n",
              "      <td>35.246072</td>\n",
              "      <td>34.340000</td>\n",
              "      <td>34.904643</td>\n",
              "      <td>5.950485</td>\n",
              "      <td>3.671506e+09</td>\n",
              "      <td>8.917170</td>\n",
              "      <td>0.010228</td>\n",
              "      <td>4</td>\n",
              "      <td>0.123942</td>\n",
              "      <td>1.010281</td>\n",
              "      <td>0.010228</td>\n",
              "      <td>26.110001</td>\n",
              "    </tr>\n",
              "    <tr>\n",
              "      <th>...</th>\n",
              "      <td>...</td>\n",
              "      <td>...</td>\n",
              "      <td>...</td>\n",
              "      <td>...</td>\n",
              "      <td>...</td>\n",
              "      <td>...</td>\n",
              "      <td>...</td>\n",
              "      <td>...</td>\n",
              "      <td>...</td>\n",
              "      <td>...</td>\n",
              "      <td>...</td>\n",
              "      <td>...</td>\n",
              "      <td>...</td>\n",
              "      <td>...</td>\n",
              "      <td>...</td>\n",
              "    </tr>\n",
              "    <tr>\n",
              "      <th>660</th>\n",
              "      <td>660</td>\n",
              "      <td>2022-08-29/2022-09-04</td>\n",
              "      <td>799.979996</td>\n",
              "      <td>804.819992</td>\n",
              "      <td>784.320007</td>\n",
              "      <td>791.280014</td>\n",
              "      <td>155.551956</td>\n",
              "      <td>3.903990e+08</td>\n",
              "      <td>25.312438</td>\n",
              "      <td>-0.009630</td>\n",
              "      <td>0</td>\n",
              "      <td>0.012074</td>\n",
              "      <td>0.990417</td>\n",
              "      <td>0.009630</td>\n",
              "      <td>25.469999</td>\n",
              "    </tr>\n",
              "    <tr>\n",
              "      <th>661</th>\n",
              "      <td>661</td>\n",
              "      <td>2022-09-05/2022-09-11</td>\n",
              "      <td>621.400009</td>\n",
              "      <td>627.940002</td>\n",
              "      <td>614.729996</td>\n",
              "      <td>622.320007</td>\n",
              "      <td>157.109375</td>\n",
              "      <td>3.141170e+08</td>\n",
              "      <td>20.181893</td>\n",
              "      <td>0.001984</td>\n",
              "      <td>0</td>\n",
              "      <td>0.036968</td>\n",
              "      <td>1.001986</td>\n",
              "      <td>0.001984</td>\n",
              "      <td>22.790001</td>\n",
              "    </tr>\n",
              "    <tr>\n",
              "      <th>662</th>\n",
              "      <td>662</td>\n",
              "      <td>2022-09-12/2022-09-18</td>\n",
              "      <td>780.139984</td>\n",
              "      <td>788.490005</td>\n",
              "      <td>766.029999</td>\n",
              "      <td>775.649979</td>\n",
              "      <td>150.450424</td>\n",
              "      <td>5.683379e+08</td>\n",
              "      <td>25.211036</td>\n",
              "      <td>-0.008491</td>\n",
              "      <td>2</td>\n",
              "      <td>0.066218</td>\n",
              "      <td>0.991545</td>\n",
              "      <td>0.008491</td>\n",
              "      <td>26.299999</td>\n",
              "    </tr>\n",
              "    <tr>\n",
              "      <th>663</th>\n",
              "      <td>663</td>\n",
              "      <td>2022-09-19/2022-09-25</td>\n",
              "      <td>763.619995</td>\n",
              "      <td>777.320007</td>\n",
              "      <td>755.250015</td>\n",
              "      <td>768.269989</td>\n",
              "      <td>150.180862</td>\n",
              "      <td>4.735432e+08</td>\n",
              "      <td>25.164753</td>\n",
              "      <td>-0.000327</td>\n",
              "      <td>0</td>\n",
              "      <td>0.102698</td>\n",
              "      <td>0.999673</td>\n",
              "      <td>0.000327</td>\n",
              "      <td>29.920000</td>\n",
              "    </tr>\n",
              "    <tr>\n",
              "      <th>664</th>\n",
              "      <td>664</td>\n",
              "      <td>2022-09-26/2022-10-02</td>\n",
              "      <td>737.420013</td>\n",
              "      <td>748.950012</td>\n",
              "      <td>723.109985</td>\n",
              "      <td>733.049988</td>\n",
              "      <td>137.971115</td>\n",
              "      <td>5.775370e+08</td>\n",
              "      <td>24.927240</td>\n",
              "      <td>-0.016990</td>\n",
              "      <td>2</td>\n",
              "      <td>-0.023962</td>\n",
              "      <td>0.983154</td>\n",
              "      <td>0.016990</td>\n",
              "      <td>31.620001</td>\n",
              "    </tr>\n",
              "  </tbody>\n",
              "</table>\n",
              "<p>665 rows × 15 columns</p>\n",
              "</div>\n",
              "      <button class=\"colab-df-convert\" onclick=\"convertToInteractive('df-05d7f979-bb08-4459-98fe-1cfa4661f51b')\"\n",
              "              title=\"Convert this dataframe to an interactive table.\"\n",
              "              style=\"display:none;\">\n",
              "        \n",
              "  <svg xmlns=\"http://www.w3.org/2000/svg\" height=\"24px\"viewBox=\"0 0 24 24\"\n",
              "       width=\"24px\">\n",
              "    <path d=\"M0 0h24v24H0V0z\" fill=\"none\"/>\n",
              "    <path d=\"M18.56 5.44l.94 2.06.94-2.06 2.06-.94-2.06-.94-.94-2.06-.94 2.06-2.06.94zm-11 1L8.5 8.5l.94-2.06 2.06-.94-2.06-.94L8.5 2.5l-.94 2.06-2.06.94zm10 10l.94 2.06.94-2.06 2.06-.94-2.06-.94-.94-2.06-.94 2.06-2.06.94z\"/><path d=\"M17.41 7.96l-1.37-1.37c-.4-.4-.92-.59-1.43-.59-.52 0-1.04.2-1.43.59L10.3 9.45l-7.72 7.72c-.78.78-.78 2.05 0 2.83L4 21.41c.39.39.9.59 1.41.59.51 0 1.02-.2 1.41-.59l7.78-7.78 2.81-2.81c.8-.78.8-2.07 0-2.86zM5.41 20L4 18.59l7.72-7.72 1.47 1.35L5.41 20z\"/>\n",
              "  </svg>\n",
              "      </button>\n",
              "      \n",
              "  <style>\n",
              "    .colab-df-container {\n",
              "      display:flex;\n",
              "      flex-wrap:wrap;\n",
              "      gap: 12px;\n",
              "    }\n",
              "\n",
              "    .colab-df-convert {\n",
              "      background-color: #E8F0FE;\n",
              "      border: none;\n",
              "      border-radius: 50%;\n",
              "      cursor: pointer;\n",
              "      display: none;\n",
              "      fill: #1967D2;\n",
              "      height: 32px;\n",
              "      padding: 0 0 0 0;\n",
              "      width: 32px;\n",
              "    }\n",
              "\n",
              "    .colab-df-convert:hover {\n",
              "      background-color: #E2EBFA;\n",
              "      box-shadow: 0px 1px 2px rgba(60, 64, 67, 0.3), 0px 1px 3px 1px rgba(60, 64, 67, 0.15);\n",
              "      fill: #174EA6;\n",
              "    }\n",
              "\n",
              "    [theme=dark] .colab-df-convert {\n",
              "      background-color: #3B4455;\n",
              "      fill: #D2E3FC;\n",
              "    }\n",
              "\n",
              "    [theme=dark] .colab-df-convert:hover {\n",
              "      background-color: #434B5C;\n",
              "      box-shadow: 0px 1px 3px 1px rgba(0, 0, 0, 0.15);\n",
              "      filter: drop-shadow(0px 1px 2px rgba(0, 0, 0, 0.3));\n",
              "      fill: #FFFFFF;\n",
              "    }\n",
              "  </style>\n",
              "\n",
              "      <script>\n",
              "        const buttonEl =\n",
              "          document.querySelector('#df-05d7f979-bb08-4459-98fe-1cfa4661f51b button.colab-df-convert');\n",
              "        buttonEl.style.display =\n",
              "          google.colab.kernel.accessAllowed ? 'block' : 'none';\n",
              "\n",
              "        async function convertToInteractive(key) {\n",
              "          const element = document.querySelector('#df-05d7f979-bb08-4459-98fe-1cfa4661f51b');\n",
              "          const dataTable =\n",
              "            await google.colab.kernel.invokeFunction('convertToInteractive',\n",
              "                                                     [key], {});\n",
              "          if (!dataTable) return;\n",
              "\n",
              "          const docLinkHtml = 'Like what you see? Visit the ' +\n",
              "            '<a target=\"_blank\" href=https://colab.research.google.com/notebooks/data_table.ipynb>data table notebook</a>'\n",
              "            + ' to learn more about interactive tables.';\n",
              "          element.innerHTML = '';\n",
              "          dataTable['output_type'] = 'display_data';\n",
              "          await google.colab.output.renderOutput(dataTable, element);\n",
              "          const docLink = document.createElement('div');\n",
              "          docLink.innerHTML = docLinkHtml;\n",
              "          element.appendChild(docLink);\n",
              "        }\n",
              "      </script>\n",
              "    </div>\n",
              "  </div>\n",
              "  "
            ]
          },
          "metadata": {},
          "execution_count": 21
        }
      ]
    },
    {
      "cell_type": "markdown",
      "source": [
        "## Prepare Data"
      ],
      "metadata": {
        "id": "mbc5_ilrOSV1"
      }
    },
    {
      "cell_type": "code",
      "source": [
        "result_df = df[['Week']].iloc[-128:]"
      ],
      "metadata": {
        "id": "STby3VZrc7NL"
      },
      "execution_count": null,
      "outputs": []
    },
    {
      "cell_type": "code",
      "source": [
        "result_df"
      ],
      "metadata": {
        "colab": {
          "base_uri": "https://localhost:8080/",
          "height": 424
        },
        "id": "LxIrqqGP-Gar",
        "outputId": "2c9bebdb-386e-4869-dd45-1f2c915e4d18"
      },
      "execution_count": null,
      "outputs": [
        {
          "output_type": "execute_result",
          "data": {
            "text/plain": [
              "                      Week\n",
              "537  2020-04-20/2020-04-26\n",
              "538  2020-04-27/2020-05-03\n",
              "539  2020-05-04/2020-05-10\n",
              "540  2020-05-11/2020-05-17\n",
              "541  2020-05-18/2020-05-24\n",
              "..                     ...\n",
              "660  2022-08-29/2022-09-04\n",
              "661  2022-09-05/2022-09-11\n",
              "662  2022-09-12/2022-09-18\n",
              "663  2022-09-19/2022-09-25\n",
              "664  2022-09-26/2022-10-02\n",
              "\n",
              "[128 rows x 1 columns]"
            ],
            "text/html": [
              "\n",
              "  <div id=\"df-903853c3-8156-4b40-8a46-356bcc16aba7\">\n",
              "    <div class=\"colab-df-container\">\n",
              "      <div>\n",
              "<style scoped>\n",
              "    .dataframe tbody tr th:only-of-type {\n",
              "        vertical-align: middle;\n",
              "    }\n",
              "\n",
              "    .dataframe tbody tr th {\n",
              "        vertical-align: top;\n",
              "    }\n",
              "\n",
              "    .dataframe thead th {\n",
              "        text-align: right;\n",
              "    }\n",
              "</style>\n",
              "<table border=\"1\" class=\"dataframe\">\n",
              "  <thead>\n",
              "    <tr style=\"text-align: right;\">\n",
              "      <th></th>\n",
              "      <th>Week</th>\n",
              "    </tr>\n",
              "  </thead>\n",
              "  <tbody>\n",
              "    <tr>\n",
              "      <th>537</th>\n",
              "      <td>2020-04-20/2020-04-26</td>\n",
              "    </tr>\n",
              "    <tr>\n",
              "      <th>538</th>\n",
              "      <td>2020-04-27/2020-05-03</td>\n",
              "    </tr>\n",
              "    <tr>\n",
              "      <th>539</th>\n",
              "      <td>2020-05-04/2020-05-10</td>\n",
              "    </tr>\n",
              "    <tr>\n",
              "      <th>540</th>\n",
              "      <td>2020-05-11/2020-05-17</td>\n",
              "    </tr>\n",
              "    <tr>\n",
              "      <th>541</th>\n",
              "      <td>2020-05-18/2020-05-24</td>\n",
              "    </tr>\n",
              "    <tr>\n",
              "      <th>...</th>\n",
              "      <td>...</td>\n",
              "    </tr>\n",
              "    <tr>\n",
              "      <th>660</th>\n",
              "      <td>2022-08-29/2022-09-04</td>\n",
              "    </tr>\n",
              "    <tr>\n",
              "      <th>661</th>\n",
              "      <td>2022-09-05/2022-09-11</td>\n",
              "    </tr>\n",
              "    <tr>\n",
              "      <th>662</th>\n",
              "      <td>2022-09-12/2022-09-18</td>\n",
              "    </tr>\n",
              "    <tr>\n",
              "      <th>663</th>\n",
              "      <td>2022-09-19/2022-09-25</td>\n",
              "    </tr>\n",
              "    <tr>\n",
              "      <th>664</th>\n",
              "      <td>2022-09-26/2022-10-02</td>\n",
              "    </tr>\n",
              "  </tbody>\n",
              "</table>\n",
              "<p>128 rows × 1 columns</p>\n",
              "</div>\n",
              "      <button class=\"colab-df-convert\" onclick=\"convertToInteractive('df-903853c3-8156-4b40-8a46-356bcc16aba7')\"\n",
              "              title=\"Convert this dataframe to an interactive table.\"\n",
              "              style=\"display:none;\">\n",
              "        \n",
              "  <svg xmlns=\"http://www.w3.org/2000/svg\" height=\"24px\"viewBox=\"0 0 24 24\"\n",
              "       width=\"24px\">\n",
              "    <path d=\"M0 0h24v24H0V0z\" fill=\"none\"/>\n",
              "    <path d=\"M18.56 5.44l.94 2.06.94-2.06 2.06-.94-2.06-.94-.94-2.06-.94 2.06-2.06.94zm-11 1L8.5 8.5l.94-2.06 2.06-.94-2.06-.94L8.5 2.5l-.94 2.06-2.06.94zm10 10l.94 2.06.94-2.06 2.06-.94-2.06-.94-.94-2.06-.94 2.06-2.06.94z\"/><path d=\"M17.41 7.96l-1.37-1.37c-.4-.4-.92-.59-1.43-.59-.52 0-1.04.2-1.43.59L10.3 9.45l-7.72 7.72c-.78.78-.78 2.05 0 2.83L4 21.41c.39.39.9.59 1.41.59.51 0 1.02-.2 1.41-.59l7.78-7.78 2.81-2.81c.8-.78.8-2.07 0-2.86zM5.41 20L4 18.59l7.72-7.72 1.47 1.35L5.41 20z\"/>\n",
              "  </svg>\n",
              "      </button>\n",
              "      \n",
              "  <style>\n",
              "    .colab-df-container {\n",
              "      display:flex;\n",
              "      flex-wrap:wrap;\n",
              "      gap: 12px;\n",
              "    }\n",
              "\n",
              "    .colab-df-convert {\n",
              "      background-color: #E8F0FE;\n",
              "      border: none;\n",
              "      border-radius: 50%;\n",
              "      cursor: pointer;\n",
              "      display: none;\n",
              "      fill: #1967D2;\n",
              "      height: 32px;\n",
              "      padding: 0 0 0 0;\n",
              "      width: 32px;\n",
              "    }\n",
              "\n",
              "    .colab-df-convert:hover {\n",
              "      background-color: #E2EBFA;\n",
              "      box-shadow: 0px 1px 2px rgba(60, 64, 67, 0.3), 0px 1px 3px 1px rgba(60, 64, 67, 0.15);\n",
              "      fill: #174EA6;\n",
              "    }\n",
              "\n",
              "    [theme=dark] .colab-df-convert {\n",
              "      background-color: #3B4455;\n",
              "      fill: #D2E3FC;\n",
              "    }\n",
              "\n",
              "    [theme=dark] .colab-df-convert:hover {\n",
              "      background-color: #434B5C;\n",
              "      box-shadow: 0px 1px 3px 1px rgba(0, 0, 0, 0.15);\n",
              "      filter: drop-shadow(0px 1px 2px rgba(0, 0, 0, 0.3));\n",
              "      fill: #FFFFFF;\n",
              "    }\n",
              "  </style>\n",
              "\n",
              "      <script>\n",
              "        const buttonEl =\n",
              "          document.querySelector('#df-903853c3-8156-4b40-8a46-356bcc16aba7 button.colab-df-convert');\n",
              "        buttonEl.style.display =\n",
              "          google.colab.kernel.accessAllowed ? 'block' : 'none';\n",
              "\n",
              "        async function convertToInteractive(key) {\n",
              "          const element = document.querySelector('#df-903853c3-8156-4b40-8a46-356bcc16aba7');\n",
              "          const dataTable =\n",
              "            await google.colab.kernel.invokeFunction('convertToInteractive',\n",
              "                                                     [key], {});\n",
              "          if (!dataTable) return;\n",
              "\n",
              "          const docLinkHtml = 'Like what you see? Visit the ' +\n",
              "            '<a target=\"_blank\" href=https://colab.research.google.com/notebooks/data_table.ipynb>data table notebook</a>'\n",
              "            + ' to learn more about interactive tables.';\n",
              "          element.innerHTML = '';\n",
              "          dataTable['output_type'] = 'display_data';\n",
              "          await google.colab.output.renderOutput(dataTable, element);\n",
              "          const docLink = document.createElement('div');\n",
              "          docLink.innerHTML = docLinkHtml;\n",
              "          element.appendChild(docLink);\n",
              "        }\n",
              "      </script>\n",
              "    </div>\n",
              "  </div>\n",
              "  "
            ]
          },
          "metadata": {},
          "execution_count": 23
        }
      ]
    },
    {
      "cell_type": "code",
      "source": [
        "(37.705715-36.923572)"
      ],
      "metadata": {
        "id": "pxKK7VpnN4hl",
        "colab": {
          "base_uri": "https://localhost:8080/"
        },
        "outputId": "d5dcd2cc-066d-4d4e-87c7-ce9e5651c2e7"
      },
      "execution_count": null,
      "outputs": [
        {
          "output_type": "execute_result",
          "data": {
            "text/plain": [
              "0.7821429999999978"
            ]
          },
          "metadata": {},
          "execution_count": 24
        }
      ]
    },
    {
      "cell_type": "code",
      "source": [
        "from sklearn.metrics import mean_absolute_error, mean_squared_error, mean_absolute_percentage_error, r2_score\n",
        "\n",
        "def regression_metrics_by_sklearn(y_true, y_pred):\n",
        "    print('========calculate regression metrics by sklearn========')\n",
        "    print('MSE: {:.10f}'.format(mean_squared_error(y_true, y_pred)))\n",
        "    print('MAE: {:.10f}'.format(mean_absolute_error(y_true, y_pred)))\n",
        "    print('MAPE: {:.10f}'.format(mean_absolute_percentage_error(y_true, y_pred)))\n",
        "    #print('r2: {:.10f}'.format(r2_score(y_true, y_pred, )))"
      ],
      "metadata": {
        "id": "PsGdA3LavKeO"
      },
      "execution_count": null,
      "outputs": []
    },
    {
      "cell_type": "code",
      "source": [
        "def create_new_set(X, y, timestep, time_lag=1):\n",
        "    features = []\n",
        "    target = []\n",
        "    \n",
        "    for i in range(0, len(X)-timestep-time_lag,1):\n",
        "        data = X[i:i+timestep]\n",
        "        label = y[i+timestep+time_lag]\n",
        "        features.append(data)\n",
        "        target.append(label)\n",
        "        \n",
        "    return np.array(features), np.array(target)"
      ],
      "metadata": {
        "id": "PBCvkT5QM9Ll"
      },
      "execution_count": null,
      "outputs": []
    },
    {
      "cell_type": "code",
      "source": [
        "from sklearn.metrics import f1_score, precision_score, recall_score, accuracy_score\n",
        "\n",
        "\n",
        "def classifier_metrics_by_sklearn(y_true, y_pred):\n",
        "    print('accuracy_score: {:.10f}'.format(accuracy_score(y_true, y_pred)))\n",
        "    #print('precision_score: {:.10f}'.format(precision_score(y_true, y_pred)))\n",
        "    print('recall_score: {:.10f}'.format(recall_score(y_true, y_pred)))\n",
        "    print('f1_score: {:.2f}'.format(f1_score(y_true, y_pred)))"
      ],
      "metadata": {
        "id": "9TRLsIsKM9NU"
      },
      "execution_count": null,
      "outputs": []
    },
    {
      "cell_type": "markdown",
      "source": [
        "## Number of Jumps"
      ],
      "metadata": {
        "id": "6cMKTlv6BQMm"
      }
    },
    {
      "cell_type": "code",
      "source": [
        "minMaxScaler_x = MinMaxScaler()\n",
        "standardScaler = StandardScaler()\n",
        "#selected = ['Adj Close','Volume','Score']\n",
        "selected = ['Adj Close','Volume','Score', 'return','Number_of_Jumps']\n",
        "X = standardScaler.fit_transform(df[selected])  "
      ],
      "metadata": {
        "id": "TNgvuAxAM8kA"
      },
      "execution_count": null,
      "outputs": []
    },
    {
      "cell_type": "code",
      "source": [
        "y_selected = ['Number_of_Jumps']\n",
        "\n",
        "y = np.array(df[y_selected])\n",
        "y[0]"
      ],
      "metadata": {
        "colab": {
          "base_uri": "https://localhost:8080/"
        },
        "id": "BEGSwPtNM9Pl",
        "outputId": "ccdd54ea-eb64-466d-a868-562dc6307323"
      },
      "execution_count": null,
      "outputs": [
        {
          "output_type": "execute_result",
          "data": {
            "text/plain": [
              "array([1])"
            ]
          },
          "metadata": {},
          "execution_count": 29
        }
      ]
    },
    {
      "cell_type": "code",
      "source": [
        "X_train, X_test, y_train, y_test = train_test_split(X, y, test_size=0.2, shuffle=False)\n",
        "X_train.shape, X_test.shape, y_train.shape, y_test.shape  "
      ],
      "metadata": {
        "colab": {
          "base_uri": "https://localhost:8080/"
        },
        "id": "_Bbnp8DVClPJ",
        "outputId": "b70a41af-50c3-4d5d-c4e6-b54ac312e242"
      },
      "execution_count": null,
      "outputs": [
        {
          "output_type": "execute_result",
          "data": {
            "text/plain": [
              "((532, 5), (133, 5), (532, 1), (133, 1))"
            ]
          },
          "metadata": {},
          "execution_count": 30
        }
      ]
    },
    {
      "cell_type": "code",
      "source": [
        "tp = 4  \n",
        "train_dataset, train_labels = create_new_set(X_train, y_train, timestep=tp)\n",
        "test_dataset, test_labels = create_new_set(X_test, y_test, timestep=tp)   \n",
        "test_dataset.shape"
      ],
      "metadata": {
        "colab": {
          "base_uri": "https://localhost:8080/"
        },
        "id": "Glj-JuvvClRw",
        "outputId": "65635198-46ac-4edf-b968-0e50f012a967"
      },
      "execution_count": null,
      "outputs": [
        {
          "output_type": "execute_result",
          "data": {
            "text/plain": [
              "(128, 4, 5)"
            ]
          },
          "metadata": {},
          "execution_count": 31
        }
      ]
    },
    {
      "cell_type": "code",
      "source": [
        "model_1 = Sequential([\n",
        "    layers.LSTM(units=200, input_shape=(4, 5\n",
        "                                        \n",
        "                                        ), return_sequences=True, activation='tanh'),\n",
        "    layers.Dropout(0.2),\n",
        "    layers.LSTM(units=300, return_sequences=False),\n",
        "    #layers.LSTM(units=32),\n",
        "    layers.Dropout(0.2),\n",
        "    layers.Dense(1, activation='relu')\n",
        "])\n",
        "\n",
        "model_1.compile(optimizer=tf.keras.optimizers.Adam(0.01),\n",
        "             loss=['mse'])"
      ],
      "metadata": {
        "id": "9nAdh8RyClTp"
      },
      "execution_count": null,
      "outputs": []
    },
    {
      "cell_type": "code",
      "source": [
        "from keras.utils.vis_utils import plot_model\n",
        "keras.utils.plot_model(model_1, to_file='graph.png', show_shapes=True)"
      ],
      "metadata": {
        "colab": {
          "base_uri": "https://localhost:8080/",
          "height": 644
        },
        "id": "uZqwi8G8RJp9",
        "outputId": "440ccbf1-1cfb-4bd3-99db-41994be946e6"
      },
      "execution_count": null,
      "outputs": [
        {
          "output_type": "execute_result",
          "data": {
            "image/png": "[encoded data removed]",
            "text/plain": [
              "<IPython.core.display.Image object>"
            ]
          },
          "metadata": {},
          "execution_count": 34
        }
      ]
    },
    {
      "cell_type": "code",
      "source": [
        "his = model_1.fit(train_dataset, train_labels,\n",
        "                batch_size = 42,\n",
        "               epochs=100,\n",
        "               validation_data= (test_dataset, test_labels),\n",
        "               )"
      ],
      "metadata": {
        "id": "dkjA2rdZClZb"
      },
      "execution_count": null,
      "outputs": []
    },
    {
      "cell_type": "code",
      "source": [
        "plt.figure(figsize=(16,9))\n",
        "plt.plot(his.history['loss'],label='Train loss')\n",
        "plt.plot(his.history['val_loss'],label='Val loss')\n",
        "plt.legend(loc='best')"
      ],
      "metadata": {
        "id": "47LfiYFwC4Pt"
      },
      "execution_count": null,
      "outputs": []
    },
    {
      "cell_type": "code",
      "source": [
        "test_preds = model_1.predict(test_dataset,verbose=1)\n",
        "test_preds = test_preds[:,0]"
      ],
      "metadata": {
        "id": "E2-xjgVLC56E"
      },
      "execution_count": null,
      "outputs": []
    },
    {
      "cell_type": "code",
      "source": [
        "k = []\n",
        "for i in test_preds:\n",
        "  if i - int(i) >= 0.5:\n",
        "    i = int(i+1)\n",
        "  else:\n",
        "    i = int(i)\n",
        "  k.append(i-1 if i >0 else i)"
      ],
      "metadata": {
        "id": "vQtO_OeyC52p"
      },
      "execution_count": null,
      "outputs": []
    },
    {
      "cell_type": "code",
      "source": [
        "plt.figure(figsize=(12,6))\n",
        "plt.scatter(range(len(test_preds)),k,label='Predict')\n",
        "plt.scatter(range(len(test_preds)),test_labels, label='Real')\n",
        "plt.ylabel('Jumps in a Week')\n",
        "plt.xlabel('Weeks')\n",
        "plt.legend()\n",
        "plt.title('Number of Jumps')"
      ],
      "metadata": {
        "id": "ViZvplL3C5pO"
      },
      "execution_count": null,
      "outputs": []
    },
    {
      "cell_type": "code",
      "source": [
        "result_df['Jumps'] = test_preds"
      ],
      "metadata": {
        "id": "NiCDtYrtdCDa"
      },
      "execution_count": null,
      "outputs": []
    },
    {
      "cell_type": "code",
      "source": [],
      "metadata": {
        "id": "K0OmC72QajS5"
      },
      "execution_count": null,
      "outputs": []
    },
    {
      "cell_type": "code",
      "source": [
        "regression_metrics_by_sklearn(test_labels, k)"
      ],
      "metadata": {
        "id": "5Zt6hybRU8Ip"
      },
      "execution_count": null,
      "outputs": []
    },
    {
      "cell_type": "markdown",
      "source": [
        "## Retuern"
      ],
      "metadata": {
        "id": "PhwMAOX0BQTH"
      }
    },
    {
      "cell_type": "code",
      "source": [
        "minMaxScaler_x = MinMaxScaler()\n",
        "standardScaler = StandardScaler()\n",
        "selected = ['Adj Close', 'Score', 'log_price_change']\n",
        "#selected = ['Adj Close','Volume','Score', 'return','Number_of_Jumps']\n",
        "X = standardScaler.fit_transform(df[selected])"
      ],
      "metadata": {
        "id": "zSF3gSHGK687"
      },
      "execution_count": null,
      "outputs": []
    },
    {
      "cell_type": "code",
      "source": [
        "y_selected = ['return']\n",
        "\n",
        "y = np.array(df[y_selected])\n",
        "y[0]"
      ],
      "metadata": {
        "id": "nB9E245WM9R6"
      },
      "execution_count": null,
      "outputs": []
    },
    {
      "cell_type": "code",
      "source": [
        "X_train, X_test, y_train, y_test = train_test_split(X, y, test_size=0.2, shuffle=False)\n",
        "X_train.shape, X_test.shape, y_train.shape, y_test.shape"
      ],
      "metadata": {
        "id": "KMj7tFruIVwZ"
      },
      "execution_count": null,
      "outputs": []
    },
    {
      "cell_type": "code",
      "source": [
        "tp = 4\n",
        "train_dataset, train_labels = create_new_set(X_train, y_train, timestep=tp)\n",
        "test_dataset, test_labels = create_new_set(X_test, y_test, timestep=tp)\n",
        "test_dataset.shape"
      ],
      "metadata": {
        "id": "UMtVAH1OIVs7"
      },
      "execution_count": null,
      "outputs": []
    },
    {
      "cell_type": "code",
      "source": [
        "model_2 = Sequential([\n",
        "    layers.LSTM(units=200, input_shape=(4, 3), return_sequences=True, activation='tanh'),\n",
        "    layers.Dropout(0.2),\n",
        "    layers.LSTM(units=300, return_sequences=True),\n",
        "    layers.Dropout(0.2),\n",
        "    layers.LSTM(units=32, return_sequences=False),\n",
        "    layers.Dropout(0.2),\n",
        "    layers.Dense(1, activation='relu')\n",
        "])\n",
        "\n",
        "model_2.compile(optimizer=tf.keras.optimizers.Adam(0.001),\n",
        "             loss=['mse'])"
      ],
      "metadata": {
        "id": "fD2nZQgsIVqH"
      },
      "execution_count": null,
      "outputs": []
    },
    {
      "cell_type": "code",
      "source": [
        "his = model_2.fit(train_dataset, train_labels,\n",
        "                batch_size = 42,\n",
        "               epochs=200,\n",
        "               validation_data= (test_dataset, test_labels),\n",
        "               )"
      ],
      "metadata": {
        "id": "_EJcHU_KIVnP"
      },
      "execution_count": null,
      "outputs": []
    },
    {
      "cell_type": "code",
      "source": [
        "plt.figure(figsize=(16,9))\n",
        "plt.plot(his.history['loss'],label='Train loss')\n",
        "plt.plot(his.history['val_loss'],label='Val loss')\n",
        "plt.legend(loc='best')"
      ],
      "metadata": {
        "id": "PUDcrW75IVkd"
      },
      "execution_count": null,
      "outputs": []
    },
    {
      "cell_type": "code",
      "source": [
        "test_preds = model_2.predict(test_dataset,verbose=1)\n",
        "test_preds = test_preds[:,0]"
      ],
      "metadata": {
        "id": "duRr5soPIlSs"
      },
      "execution_count": null,
      "outputs": []
    },
    {
      "cell_type": "code",
      "source": [
        "plt.figure(figsize=(12,6))\n",
        "plt.scatter(range(len(test_preds)),test_preds,label='Predict')\n",
        "plt.scatter(range(len(test_preds)),test_labels, label='Real')\n",
        "plt.ylabel('Return')\n",
        "plt.xlabel('Weeks')\n",
        "plt.legend()\n",
        "plt.title('Returns')"
      ],
      "metadata": {
        "id": "RnZtFIaTIlPI"
      },
      "execution_count": null,
      "outputs": []
    },
    {
      "cell_type": "code",
      "source": [
        "result_df['Return'] = test_preds"
      ],
      "metadata": {
        "id": "bHyAcWrrdZnp"
      },
      "execution_count": null,
      "outputs": []
    },
    {
      "cell_type": "code",
      "source": [
        "regression_metrics_by_sklearn(test_labels, test_preds)"
      ],
      "metadata": {
        "id": "tFLPE8Y2UyG8"
      },
      "execution_count": null,
      "outputs": []
    },
    {
      "cell_type": "markdown",
      "source": [
        "## Volitality"
      ],
      "metadata": {
        "id": "d01h7kLaBdpS"
      }
    },
    {
      "cell_type": "code",
      "source": [
        "minMaxScaler_x = MinMaxScaler()\n",
        "standardScaler = StandardScaler()  \n",
        "selected = ['Adj Close','VIX','vol', 'return']\n",
        "#selected = ['Adj Close','Volume','Score', 'return','Number_of_Jumps']\n",
        "X = standardScaler.fit_transform(df[selected])"
      ],
      "metadata": {
        "id": "jkEE9MZgMjeS"
      },
      "execution_count": null,
      "outputs": []
    },
    {
      "cell_type": "code",
      "source": [
        "y_selected = ['vol']\n",
        "\n",
        "y = np.array(df[y_selected])\n",
        "y[0]"
      ],
      "metadata": {
        "id": "4vSeL2A2M9UM"
      },
      "execution_count": null,
      "outputs": []
    },
    {
      "cell_type": "code",
      "source": [
        "X_train, X_test, y_train, y_test = train_test_split(X, y, test_size=0.2, shuffle=False)\n",
        "X_train.shape, X_test.shape, y_train.shape, y_test.shape  "
      ],
      "metadata": {
        "id": "-0SFLhqQIaHC"
      },
      "execution_count": null,
      "outputs": []
    },
    {
      "cell_type": "code",
      "source": [
        "tp = 4\n",
        "train_dataset, train_labels = create_new_set(X_train, y_train, timestep=tp)\n",
        "test_dataset, test_labels = create_new_set(X_test, y_test, timestep=tp)\n",
        "test_dataset.shape"
      ],
      "metadata": {
        "id": "eIVuuA5oIaDP"
      },
      "execution_count": null,
      "outputs": []
    },
    {
      "cell_type": "code",
      "source": [
        "model_3 = Sequential([\n",
        "    layers.LSTM(units=200, input_shape=(4, 4), return_sequences=True, activation='tanh'),\n",
        "    layers.Dropout(0.2),\n",
        "    layers.LSTM(units=300, return_sequences=False),\n",
        "    #layers.LSTM(units=32),\n",
        "    layers.Dropout(0.2),\n",
        "    layers.Dense(1, activation='relu')\n",
        "])\n",
        "\n",
        "model_3.compile(optimizer=tf.keras.optimizers.Adam(0.0001),\n",
        "             loss=['msle'])"
      ],
      "metadata": {
        "id": "R_fy0L6yIaBO"
      },
      "execution_count": null,
      "outputs": []
    },
    {
      "cell_type": "code",
      "source": [
        "his = model_3.fit(train_dataset, train_labels,\n",
        "                batch_size = 42,\n",
        "               epochs=100,\n",
        "               validation_data= (test_dataset, test_labels),\n",
        "               )"
      ],
      "metadata": {
        "id": "fEF1RyMZIZ-h"
      },
      "execution_count": null,
      "outputs": []
    },
    {
      "cell_type": "code",
      "source": [
        "plt.figure(figsize=(16,9))\n",
        "plt.plot(his.history['loss'],label='Train loss')\n",
        "plt.plot(his.history['val_loss'],label='Val loss')\n",
        "plt.legend(loc='best')"
      ],
      "metadata": {
        "id": "pdW0nlCMIZ8V"
      },
      "execution_count": null,
      "outputs": []
    },
    {
      "cell_type": "code",
      "source": [
        "test_preds = model_3.predict(test_dataset,verbose=1)\n",
        "test_preds = test_preds[:,0]"
      ],
      "metadata": {
        "id": "Fq1DpTSqIZ6H"
      },
      "execution_count": null,
      "outputs": []
    },
    {
      "cell_type": "code",
      "source": [
        "plt.figure(figsize=(12,6))\n",
        "plt.scatter(range(len(test_preds)),test_preds,label='Predict')\n",
        "plt.scatter(range(len(test_preds)),test_labels, label='Real')\n",
        "plt.ylabel('Volitility')\n",
        "plt.xlabel('Weeks')\n",
        "plt.legend()\n",
        "plt.title('Volitility Changes')"
      ],
      "metadata": {
        "id": "AkQPC2XdIZ3m"
      },
      "execution_count": null,
      "outputs": []
    },
    {
      "cell_type": "code",
      "source": [],
      "metadata": {
        "id": "UoOcdEKDIZ1D"
      },
      "execution_count": null,
      "outputs": []
    },
    {
      "cell_type": "code",
      "source": [
        "result_df['Vol'] = test_preds"
      ],
      "metadata": {
        "id": "9dpr83JTdebP"
      },
      "execution_count": null,
      "outputs": []
    },
    {
      "cell_type": "code",
      "source": [
        "test_labels-test_preds"
      ],
      "metadata": {
        "id": "zoinTN5lWxp-"
      },
      "execution_count": null,
      "outputs": []
    },
    {
      "cell_type": "code",
      "source": [
        "regression_metrics_by_sklearn(test_labels, test_preds)"
      ],
      "metadata": {
        "id": "BhuXnQy-UbZd"
      },
      "execution_count": null,
      "outputs": []
    },
    {
      "cell_type": "code",
      "source": [
        "result_df"
      ],
      "metadata": {
        "id": "WKlY0y8ZUhCQ"
      },
      "execution_count": null,
      "outputs": []
    },
    {
      "cell_type": "code",
      "source": [
        "#result_df.to_csv('model_prediction_res.csv')     \n",
        "!cp model_prediction_res.csv \"drive/My Drive/\"   "
      ],
      "metadata": {
        "id": "fbmTIg3tFgsh"
      },
      "execution_count": null,
      "outputs": []
    },
    {
      "cell_type": "code",
      "source": [
        "#res.to_csv('model_prediction_res.csv')\n",
        "#!cp model_prediction_res.csv \"drive/My Drive/\""
      ],
      "metadata": {
        "id": "WXKgRyGseTV1"
      },
      "execution_count": null,
      "outputs": []
    }
  ]
}